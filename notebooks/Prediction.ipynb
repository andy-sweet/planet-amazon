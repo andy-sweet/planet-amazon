{
 "cells": [
  {
   "cell_type": "markdown",
   "metadata": {},
   "source": [
    "# Prediction\n",
    "\n",
    "This notebook shows off the prediction methods we use in this project, in addition to the evaluation scheme."
   ]
  },
  {
   "cell_type": "code",
   "execution_count": 10,
   "metadata": {},
   "outputs": [],
   "source": [
    "import sys, os\n",
    "\n",
    "sys.path.append('..')\n",
    "import planet.predict, planet.util\n",
    "\n",
    "import sklearn.metrics\n",
    "import numpy\n",
    "\n",
    "data_dir = '../data'"
   ]
  },
  {
   "cell_type": "markdown",
   "metadata": {},
   "source": [
    "First, we load all the label data."
   ]
  },
  {
   "cell_type": "code",
   "execution_count": 2,
   "metadata": {
    "collapsed": true
   },
   "outputs": [],
   "source": [
    "all_tags = planet.util.read_tags(os.path.join(data_dir, 'train_v2.csv'))\n",
    "tag_indices = planet.util.get_tag_indices(all_tags)\n",
    "all_labels = planet.util.tags_to_labels(all_tags, tag_indices)\n",
    "(num_all, num_labels) = all_labels.shape"
   ]
  },
  {
   "cell_type": "markdown",
   "metadata": {},
   "source": [
    "## Random Classifier\n",
    "\n",
    "In order to establish a baseline for performance, we first use a classifier that assigns labels at random by flipping an unbiased coin for each label."
   ]
  },
  {
   "cell_type": "code",
   "execution_count": 11,
   "metadata": {},
   "outputs": [
    {
     "data": {
      "application/vnd.plotly.v1+json": {
       "data": [
        {
         "marker": {
          "color": "rgb(255, 0, 0)"
         },
         "name": "recall",
         "type": "bar",
         "x": [
          "haze",
          "primary",
          "agriculture",
          "clear",
          "water",
          "habitation",
          "road",
          "cultivation",
          "slash_burn",
          "cloudy",
          "partly_cloudy",
          "conventional_mine",
          "bare_ground",
          "artisinal_mine",
          "blooming",
          "selective_logging",
          "blow_down"
         ],
         "y": [
          0.5016685205784205,
          0.5031055900621118,
          0.4954933008526188,
          0.49875136294889383,
          0.4987181217109702,
          0.489344262295082,
          0.5026638582579606,
          0.486709850346214,
          0.5119617224880383,
          0.5088559119195788,
          0.5065417986503237,
          0.46,
          0.48839907192575405,
          0.5457227138643068,
          0.5180722891566265,
          0.5117647058823529,
          0.5306122448979592
         ]
        },
        {
         "marker": {
          "color": "rgb(0, 255, 0)"
         },
         "name": "precision",
         "type": "bar",
         "x": [
          "haze",
          "primary",
          "agriculture",
          "clear",
          "water",
          "habitation",
          "road",
          "cultivation",
          "slash_burn",
          "cloudy",
          "partly_cloudy",
          "conventional_mine",
          "bare_ground",
          "artisinal_mine",
          "blooming",
          "selective_logging",
          "blow_down"
         ],
         "y": [
          0.06698019801980198,
          0.9297960390186225,
          0.30255850852836175,
          0.7035126017066878,
          0.18309719607648867,
          0.08906016907011437,
          0.20093110791937002,
          0.10726064484371155,
          0.0053329346092503985,
          0.05218714713535274,
          0.1820701945448245,
          0.002277904328018223,
          0.020760392524286207,
          0.009165221699281644,
          0.008562325766626843,
          0.008539458186101296,
          0.002576936419049507
         ]
        },
        {
         "marker": {
          "color": "rgb(0, 0, 255)"
         },
         "name": "f2",
         "type": "bar",
         "x": [
          "haze",
          "primary",
          "agriculture",
          "clear",
          "water",
          "habitation",
          "road",
          "cultivation",
          "slash_burn",
          "cloudy",
          "partly_cloudy",
          "conventional_mine",
          "bare_ground",
          "artisinal_mine",
          "blooming",
          "selective_logging",
          "blow_down"
         ],
         "y": [
          0.2183103136698077,
          0.5539477546228353,
          0.439448061300916,
          0.5295787272184046,
          0.3708609271523179,
          0.25769784172661875,
          0.3865650309671272,
          0.28503780446328125,
          0.02559808612440191,
          0.18503046127067013,
          0.37343892780993,
          0.011168301447023405,
          0.0887174948371054,
          0.04294136762452997,
          0.04015689204333209,
          0.04002576370997423,
          0.012639152204559818
         ]
        }
       ],
       "layout": {
        "barmode": "group",
        "title": "Scores for Random Classifier. Recall=0.50, Precision=0.17, F2=0.36"
       }
      },
      "text/html": [
       "<div id=\"ff722d40-d7e0-4880-bccc-bfe243765d7e\" style=\"height: 525px; width: 100%;\" class=\"plotly-graph-div\"></div><script type=\"text/javascript\">require([\"plotly\"], function(Plotly) { window.PLOTLYENV=window.PLOTLYENV || {};window.PLOTLYENV.BASE_URL=\"https://plot.ly\";Plotly.newPlot(\"ff722d40-d7e0-4880-bccc-bfe243765d7e\", [{\"type\": \"bar\", \"x\": [\"haze\", \"primary\", \"agriculture\", \"clear\", \"water\", \"habitation\", \"road\", \"cultivation\", \"slash_burn\", \"cloudy\", \"partly_cloudy\", \"conventional_mine\", \"bare_ground\", \"artisinal_mine\", \"blooming\", \"selective_logging\", \"blow_down\"], \"y\": [0.5016685205784205, 0.5031055900621118, 0.4954933008526188, 0.49875136294889383, 0.4987181217109702, 0.489344262295082, 0.5026638582579606, 0.486709850346214, 0.5119617224880383, 0.5088559119195788, 0.5065417986503237, 0.46, 0.48839907192575405, 0.5457227138643068, 0.5180722891566265, 0.5117647058823529, 0.5306122448979592], \"name\": \"recall\", \"marker\": {\"color\": \"rgb(255, 0, 0)\"}}, {\"type\": \"bar\", \"x\": [\"haze\", \"primary\", \"agriculture\", \"clear\", \"water\", \"habitation\", \"road\", \"cultivation\", \"slash_burn\", \"cloudy\", \"partly_cloudy\", \"conventional_mine\", \"bare_ground\", \"artisinal_mine\", \"blooming\", \"selective_logging\", \"blow_down\"], \"y\": [0.06698019801980198, 0.9297960390186225, 0.30255850852836175, 0.7035126017066878, 0.18309719607648867, 0.08906016907011437, 0.20093110791937002, 0.10726064484371155, 0.0053329346092503985, 0.05218714713535274, 0.1820701945448245, 0.002277904328018223, 0.020760392524286207, 0.009165221699281644, 0.008562325766626843, 0.008539458186101296, 0.002576936419049507], \"name\": \"precision\", \"marker\": {\"color\": \"rgb(0, 255, 0)\"}}, {\"type\": \"bar\", \"x\": [\"haze\", \"primary\", \"agriculture\", \"clear\", \"water\", \"habitation\", \"road\", \"cultivation\", \"slash_burn\", \"cloudy\", \"partly_cloudy\", \"conventional_mine\", \"bare_ground\", \"artisinal_mine\", \"blooming\", \"selective_logging\", \"blow_down\"], \"y\": [0.2183103136698077, 0.5539477546228353, 0.439448061300916, 0.5295787272184046, 0.3708609271523179, 0.25769784172661875, 0.3865650309671272, 0.28503780446328125, 0.02559808612440191, 0.18503046127067013, 0.37343892780993, 0.011168301447023405, 0.0887174948371054, 0.04294136762452997, 0.04015689204333209, 0.04002576370997423, 0.012639152204559818], \"name\": \"f2\", \"marker\": {\"color\": \"rgb(0, 0, 255)\"}}], {\"title\": \"Scores for Random Classifier. Recall=0.50, Precision=0.17, F2=0.36\", \"barmode\": \"group\"}, {\"showLink\": true, \"linkText\": \"Export to plot.ly\"})});</script>"
      ],
      "text/vnd.plotly.v1+html": [
       "<div id=\"ff722d40-d7e0-4880-bccc-bfe243765d7e\" style=\"height: 525px; width: 100%;\" class=\"plotly-graph-div\"></div><script type=\"text/javascript\">require([\"plotly\"], function(Plotly) { window.PLOTLYENV=window.PLOTLYENV || {};window.PLOTLYENV.BASE_URL=\"https://plot.ly\";Plotly.newPlot(\"ff722d40-d7e0-4880-bccc-bfe243765d7e\", [{\"type\": \"bar\", \"x\": [\"haze\", \"primary\", \"agriculture\", \"clear\", \"water\", \"habitation\", \"road\", \"cultivation\", \"slash_burn\", \"cloudy\", \"partly_cloudy\", \"conventional_mine\", \"bare_ground\", \"artisinal_mine\", \"blooming\", \"selective_logging\", \"blow_down\"], \"y\": [0.5016685205784205, 0.5031055900621118, 0.4954933008526188, 0.49875136294889383, 0.4987181217109702, 0.489344262295082, 0.5026638582579606, 0.486709850346214, 0.5119617224880383, 0.5088559119195788, 0.5065417986503237, 0.46, 0.48839907192575405, 0.5457227138643068, 0.5180722891566265, 0.5117647058823529, 0.5306122448979592], \"name\": \"recall\", \"marker\": {\"color\": \"rgb(255, 0, 0)\"}}, {\"type\": \"bar\", \"x\": [\"haze\", \"primary\", \"agriculture\", \"clear\", \"water\", \"habitation\", \"road\", \"cultivation\", \"slash_burn\", \"cloudy\", \"partly_cloudy\", \"conventional_mine\", \"bare_ground\", \"artisinal_mine\", \"blooming\", \"selective_logging\", \"blow_down\"], \"y\": [0.06698019801980198, 0.9297960390186225, 0.30255850852836175, 0.7035126017066878, 0.18309719607648867, 0.08906016907011437, 0.20093110791937002, 0.10726064484371155, 0.0053329346092503985, 0.05218714713535274, 0.1820701945448245, 0.002277904328018223, 0.020760392524286207, 0.009165221699281644, 0.008562325766626843, 0.008539458186101296, 0.002576936419049507], \"name\": \"precision\", \"marker\": {\"color\": \"rgb(0, 255, 0)\"}}, {\"type\": \"bar\", \"x\": [\"haze\", \"primary\", \"agriculture\", \"clear\", \"water\", \"habitation\", \"road\", \"cultivation\", \"slash_burn\", \"cloudy\", \"partly_cloudy\", \"conventional_mine\", \"bare_ground\", \"artisinal_mine\", \"blooming\", \"selective_logging\", \"blow_down\"], \"y\": [0.2183103136698077, 0.5539477546228353, 0.439448061300916, 0.5295787272184046, 0.3708609271523179, 0.25769784172661875, 0.3865650309671272, 0.28503780446328125, 0.02559808612440191, 0.18503046127067013, 0.37343892780993, 0.011168301447023405, 0.0887174948371054, 0.04294136762452997, 0.04015689204333209, 0.04002576370997423, 0.012639152204559818], \"name\": \"f2\", \"marker\": {\"color\": \"rgb(0, 0, 255)\"}}], {\"title\": \"Scores for Random Classifier. Recall=0.50, Precision=0.17, F2=0.36\", \"barmode\": \"group\"}, {\"showLink\": true, \"linkText\": \"Export to plot.ly\"})});</script>"
      ]
     },
     "metadata": {},
     "output_type": "display_data"
    },
    {
     "data": {
      "text/plain": [
       "[0.50022804526483367, 0.16919655721433582, 0.35954051255661018]"
      ]
     },
     "execution_count": 11,
     "metadata": {},
     "output_type": "execute_result"
    }
   ],
   "source": [
    "pred_labels_rand = planet.predict.random(num_all, num_labels)\n",
    "\n",
    "planet.predict.plot_scores(pred_labels_rand, all_labels, tag_indices.keys(),\n",
    "                           'Random', os.path.join(data_dir, 'rand_scores.html'))"
   ]
  },
  {
   "cell_type": "markdown",
   "metadata": {},
   "source": [
    "First, note that the recall (`tp / (tp + fn)`) of this classifier is roughly `0.5` because both the number of true positives (`tp`) and false negatives (`fn`) should be half the number of positive labels (`p/2`). Also note that there is a bit more fluctuation for rarer labels like *conventional_mine*. The average used here, and elsewhere in these analyses, computes the total number of `tp` and `fn` across all samples and labels.\n",
    "\n",
    "Next, note that the precision (`tp / (tp + fp)`) of this classifier precision roughly follows the empirical distribution of the labels (see the `Data Exploration` notebook for comparison). That's because the number of false positives should be roughly half the number of negative occurences, leading to a precision of `p/2 / (p/2 + n/2) =  p / (p + n)` which is the empirical probability of the label.\n",
    "\n",
    "Finally, note that the F2 score of this classifier is a little closer to the recall than precision, which is expected because it's a geometric mean between recall and precision that weights recall more heavily than precision."
   ]
  },
  {
   "cell_type": "markdown",
   "metadata": {},
   "source": [
    "Instead of using a threshold of 0.5 for each label, we can use the empirical probability of each label instead."
   ]
  },
  {
   "cell_type": "code",
   "execution_count": 18,
   "metadata": {},
   "outputs": [
    {
     "data": {
      "application/vnd.plotly.v1+json": {
       "data": [
        {
         "marker": {
          "color": "rgb(255, 0, 0)"
         },
         "name": "recall",
         "type": "bar",
         "x": [
          "haze",
          "primary",
          "agriculture",
          "clear",
          "water",
          "habitation",
          "road",
          "cultivation",
          "slash_burn",
          "cloudy",
          "partly_cloudy",
          "conventional_mine",
          "bare_ground",
          "artisinal_mine",
          "blooming",
          "selective_logging",
          "blow_down"
         ],
         "y": [
          0.060066740823136816,
          0.928318183029883,
          0.30028420625253754,
          0.7032112834581971,
          0.1771690729995952,
          0.0907103825136612,
          0.204683434518647,
          0.10676792494974313,
          0.009569377990430622,
          0.0440402106270943,
          0.18564935959234266,
          0.01,
          0.024361948955916472,
          0.008849557522123894,
          0.0030120481927710845,
          0.0029411764705882353,
          0.01020408163265306
         ]
        },
        {
         "marker": {
          "color": "rgb(0, 255, 0)"
         },
         "name": "precision",
         "type": "bar",
         "x": [
          "haze",
          "primary",
          "agriculture",
          "clear",
          "water",
          "habitation",
          "road",
          "cultivation",
          "slash_burn",
          "cloudy",
          "partly_cloudy",
          "conventional_mine",
          "bare_ground",
          "artisinal_mine",
          "blooming",
          "selective_logging",
          "blow_down"
         ],
         "y": [
          0.062045193412485634,
          0.9266384609244033,
          0.3008705556911561,
          0.7014595466984773,
          0.17688266199649738,
          0.09186496956281129,
          0.20344827586206896,
          0.10350801212646167,
          0.01,
          0.04343720491029273,
          0.18709229701596114,
          0.009345794392523364,
          0.02402745995423341,
          0.008403361344537815,
          0.002898550724637681,
          0.002770083102493075,
          0.009615384615384616
         ]
        },
        {
         "marker": {
          "color": "rgb(0, 0, 255)"
         },
         "name": "f2",
         "type": "bar",
         "x": [
          "haze",
          "primary",
          "agriculture",
          "clear",
          "water",
          "habitation",
          "road",
          "cultivation",
          "slash_burn",
          "cloudy",
          "partly_cloudy",
          "conventional_mine",
          "bare_ground",
          "artisinal_mine",
          "blooming",
          "selective_logging",
          "blow_down"
         ],
         "y": [
          0.06045227255765355,
          0.9279817516108575,
          0.30040129323650305,
          0.7028602365249673,
          0.1771117166212534,
          0.09093897228004823,
          0.20443520443520447,
          0.10609961821894699,
          0.009652509652509652,
          0.04391827382088982,
          0.18593616375624158,
          0.009861932938856016,
          0.024294308190652474,
          0.008756567425569175,
          0.0029886431560071734,
          0.0029052876234747236,
          0.010080645161290322
         ]
        }
       ],
       "layout": {
        "barmode": "group",
        "title": "Scores for Empirical Random Classifier. Recall=0.55, Precision=0.55, F2=0.55"
       }
      },
      "text/html": [
       "<div id=\"c839c84f-2df4-4e33-9bdf-990d75e1b0de\" style=\"height: 525px; width: 100%;\" class=\"plotly-graph-div\"></div><script type=\"text/javascript\">require([\"plotly\"], function(Plotly) { window.PLOTLYENV=window.PLOTLYENV || {};window.PLOTLYENV.BASE_URL=\"https://plot.ly\";Plotly.newPlot(\"c839c84f-2df4-4e33-9bdf-990d75e1b0de\", [{\"type\": \"bar\", \"x\": [\"haze\", \"primary\", \"agriculture\", \"clear\", \"water\", \"habitation\", \"road\", \"cultivation\", \"slash_burn\", \"cloudy\", \"partly_cloudy\", \"conventional_mine\", \"bare_ground\", \"artisinal_mine\", \"blooming\", \"selective_logging\", \"blow_down\"], \"y\": [0.060066740823136816, 0.928318183029883, 0.30028420625253754, 0.7032112834581971, 0.1771690729995952, 0.0907103825136612, 0.204683434518647, 0.10676792494974313, 0.009569377990430622, 0.0440402106270943, 0.18564935959234266, 0.01, 0.024361948955916472, 0.008849557522123894, 0.0030120481927710845, 0.0029411764705882353, 0.01020408163265306], \"name\": \"recall\", \"marker\": {\"color\": \"rgb(255, 0, 0)\"}}, {\"type\": \"bar\", \"x\": [\"haze\", \"primary\", \"agriculture\", \"clear\", \"water\", \"habitation\", \"road\", \"cultivation\", \"slash_burn\", \"cloudy\", \"partly_cloudy\", \"conventional_mine\", \"bare_ground\", \"artisinal_mine\", \"blooming\", \"selective_logging\", \"blow_down\"], \"y\": [0.062045193412485634, 0.9266384609244033, 0.3008705556911561, 0.7014595466984773, 0.17688266199649738, 0.09186496956281129, 0.20344827586206896, 0.10350801212646167, 0.01, 0.04343720491029273, 0.18709229701596114, 0.009345794392523364, 0.02402745995423341, 0.008403361344537815, 0.002898550724637681, 0.002770083102493075, 0.009615384615384616], \"name\": \"precision\", \"marker\": {\"color\": \"rgb(0, 255, 0)\"}}, {\"type\": \"bar\", \"x\": [\"haze\", \"primary\", \"agriculture\", \"clear\", \"water\", \"habitation\", \"road\", \"cultivation\", \"slash_burn\", \"cloudy\", \"partly_cloudy\", \"conventional_mine\", \"bare_ground\", \"artisinal_mine\", \"blooming\", \"selective_logging\", \"blow_down\"], \"y\": [0.06045227255765355, 0.9279817516108575, 0.30040129323650305, 0.7028602365249673, 0.1771117166212534, 0.09093897228004823, 0.20443520443520447, 0.10609961821894699, 0.009652509652509652, 0.04391827382088982, 0.18593616375624158, 0.009861932938856016, 0.024294308190652474, 0.008756567425569175, 0.0029886431560071734, 0.0029052876234747236, 0.010080645161290322], \"name\": \"f2\", \"marker\": {\"color\": \"rgb(0, 0, 255)\"}}], {\"title\": \"Scores for Empirical Random Classifier. Recall=0.55, Precision=0.55, F2=0.55\", \"barmode\": \"group\"}, {\"showLink\": true, \"linkText\": \"Export to plot.ly\"})});</script>"
      ],
      "text/vnd.plotly.v1+html": [
       "<div id=\"c839c84f-2df4-4e33-9bdf-990d75e1b0de\" style=\"height: 525px; width: 100%;\" class=\"plotly-graph-div\"></div><script type=\"text/javascript\">require([\"plotly\"], function(Plotly) { window.PLOTLYENV=window.PLOTLYENV || {};window.PLOTLYENV.BASE_URL=\"https://plot.ly\";Plotly.newPlot(\"c839c84f-2df4-4e33-9bdf-990d75e1b0de\", [{\"type\": \"bar\", \"x\": [\"haze\", \"primary\", \"agriculture\", \"clear\", \"water\", \"habitation\", \"road\", \"cultivation\", \"slash_burn\", \"cloudy\", \"partly_cloudy\", \"conventional_mine\", \"bare_ground\", \"artisinal_mine\", \"blooming\", \"selective_logging\", \"blow_down\"], \"y\": [0.060066740823136816, 0.928318183029883, 0.30028420625253754, 0.7032112834581971, 0.1771690729995952, 0.0907103825136612, 0.204683434518647, 0.10676792494974313, 0.009569377990430622, 0.0440402106270943, 0.18564935959234266, 0.01, 0.024361948955916472, 0.008849557522123894, 0.0030120481927710845, 0.0029411764705882353, 0.01020408163265306], \"name\": \"recall\", \"marker\": {\"color\": \"rgb(255, 0, 0)\"}}, {\"type\": \"bar\", \"x\": [\"haze\", \"primary\", \"agriculture\", \"clear\", \"water\", \"habitation\", \"road\", \"cultivation\", \"slash_burn\", \"cloudy\", \"partly_cloudy\", \"conventional_mine\", \"bare_ground\", \"artisinal_mine\", \"blooming\", \"selective_logging\", \"blow_down\"], \"y\": [0.062045193412485634, 0.9266384609244033, 0.3008705556911561, 0.7014595466984773, 0.17688266199649738, 0.09186496956281129, 0.20344827586206896, 0.10350801212646167, 0.01, 0.04343720491029273, 0.18709229701596114, 0.009345794392523364, 0.02402745995423341, 0.008403361344537815, 0.002898550724637681, 0.002770083102493075, 0.009615384615384616], \"name\": \"precision\", \"marker\": {\"color\": \"rgb(0, 255, 0)\"}}, {\"type\": \"bar\", \"x\": [\"haze\", \"primary\", \"agriculture\", \"clear\", \"water\", \"habitation\", \"road\", \"cultivation\", \"slash_burn\", \"cloudy\", \"partly_cloudy\", \"conventional_mine\", \"bare_ground\", \"artisinal_mine\", \"blooming\", \"selective_logging\", \"blow_down\"], \"y\": [0.06045227255765355, 0.9279817516108575, 0.30040129323650305, 0.7028602365249673, 0.1771117166212534, 0.09093897228004823, 0.20443520443520447, 0.10609961821894699, 0.009652509652509652, 0.04391827382088982, 0.18593616375624158, 0.009861932938856016, 0.024294308190652474, 0.008756567425569175, 0.0029886431560071734, 0.0029052876234747236, 0.010080645161290322], \"name\": \"f2\", \"marker\": {\"color\": \"rgb(0, 0, 255)\"}}], {\"title\": \"Scores for Empirical Random Classifier. Recall=0.55, Precision=0.55, F2=0.55\", \"barmode\": \"group\"}, {\"showLink\": true, \"linkText\": \"Export to plot.ly\"})});</script>"
      ]
     },
     "metadata": {},
     "output_type": "display_data"
    },
    {
     "data": {
      "text/plain": [
       "[0.55007960070564954, 0.54901186110228373, 0.54986572066112582]"
      ]
     },
     "execution_count": 18,
     "metadata": {},
     "output_type": "execute_result"
    }
   ],
   "source": [
    "label_probs = numpy.mean(all_labels, axis=0, keepdims=True)\n",
    "pred_labels_emp_rand = planet.predict.empirical_random(num_all, label_probs)\n",
    "\n",
    "planet.predict.plot_scores(pred_labels_emp_rand, all_labels, tag_indices.keys(),\n",
    "                           'Empirical Random', os.path.join(data_dir, 'emp_rand_scores.html'))"
   ]
  },
  {
   "cell_type": "markdown",
   "metadata": {},
   "source": [
    "Introducing these probabilities increases the average recall a little, increases the average precision a lot and balances the two scores. Note that even though recall decreased for many labels, it increased overall because some labels much more frequently that others and so the overall score is boosted by predicting those more frequently."
   ]
  }
 ],
 "metadata": {
  "kernelspec": {
   "display_name": "Python 3",
   "language": "python",
   "name": "python3"
  },
  "language_info": {
   "codemirror_mode": {
    "name": "ipython",
    "version": 3
   },
   "file_extension": ".py",
   "mimetype": "text/x-python",
   "name": "python",
   "nbconvert_exporter": "python",
   "pygments_lexer": "ipython3",
   "version": "3.6.1"
  }
 },
 "nbformat": 4,
 "nbformat_minor": 2
}

{
 "cells": [
  {
   "cell_type": "markdown",
   "metadata": {},
   "source": [
    "# Prediction\n",
    "\n",
    "This notebook shows off the prediction methods we use in this project, in addition to the evaluation scheme."
   ]
  },
  {
   "cell_type": "code",
   "execution_count": 1,
   "metadata": {},
   "outputs": [
    {
     "data": {
      "text/html": [
       "<script>requirejs.config({paths: { 'plotly': ['https://cdn.plot.ly/plotly-latest.min']},});if(!window.Plotly) {{require(['plotly'],function(plotly) {window.Plotly=plotly;});}}</script>"
      ],
      "text/vnd.plotly.v1+html": [
       "<script>requirejs.config({paths: { 'plotly': ['https://cdn.plot.ly/plotly-latest.min']},});if(!window.Plotly) {{require(['plotly'],function(plotly) {window.Plotly=plotly;});}}</script>"
      ]
     },
     "metadata": {},
     "output_type": "display_data"
    }
   ],
   "source": [
    "import sys, os\n",
    "\n",
    "import plotly\n",
    "plotly.offline.init_notebook_mode(connected=True)\n",
    "\n",
    "sys.path.append('..')\n",
    "import planet.predict, planet.util\n",
    "\n",
    "import numpy\n",
    "\n",
    "data_dir = '../data'"
   ]
  },
  {
   "cell_type": "markdown",
   "metadata": {},
   "source": [
    "First, we load all the label data."
   ]
  },
  {
   "cell_type": "code",
   "execution_count": 13,
   "metadata": {},
   "outputs": [],
   "source": [
    "all_tags = planet.util.read_tags(os.path.join(data_dir, 'train_v2.csv'))\n",
    "tag_indices = planet.util.get_tag_indices(all_tags)\n",
    "label_names = tag_indices.keys()\n",
    "all_labels = planet.util.tags_to_labels(all_tags, tag_indices)\n",
    "(num_all, num_labels) = labels.shape"
   ]
  },
  {
   "cell_type": "markdown",
   "metadata": {},
   "source": [
    "Then we split the labeled data into a training set and a test set."
   ]
  },
  {
   "cell_type": "code",
   "execution_count": 14,
   "metadata": {},
   "outputs": [],
   "source": [
    "train_inds, test_inds = next(planet.predict.split_data(num_all, 2))\n",
    "num_train = len(train_inds)\n",
    "num_test = len(test_inds)\n",
    "\n",
    "train_labels = all_labels[train_inds, :]\n",
    "test_labels = all_labels[test_inds, :]"
   ]
  },
  {
   "cell_type": "markdown",
   "metadata": {},
   "source": [
    "## Random Classifier\n",
    "\n",
    "In order to establish a baseline for performance, we first use a classifier that assigns labels at random by flipping an unbiased coin for each label."
   ]
  },
  {
   "cell_type": "code",
   "execution_count": 15,
   "metadata": {},
   "outputs": [
    {
     "data": {
      "application/vnd.plotly.v1+json": {
       "data": [
        {
         "marker": {
          "color": "rgb(255, 0, 0)"
         },
         "name": "recall",
         "type": "bar",
         "x": [
          "haze",
          "primary",
          "agriculture",
          "clear",
          "water",
          "habitation",
          "road",
          "cultivation",
          "slash_burn",
          "cloudy",
          "partly_cloudy",
          "conventional_mine",
          "bare_ground",
          "artisinal_mine",
          "blooming",
          "selective_logging",
          "blow_down"
         ],
         "y": [
          0.49554896142433236,
          0.5023449157962055,
          0.4888313370022661,
          0.4994726850875343,
          0.491671144545943,
          0.4972253052164262,
          0.5057668711656441,
          0.4954710144927536,
          0.5339805825242718,
          0.5037878787878788,
          0.49958483254912817,
          0.42857142857142855,
          0.5184275184275184,
          0.5269461077844312,
          0.5555555555555556,
          0.4911242603550296,
          0.5357142857142857
         ]
        },
        {
         "marker": {
          "color": "rgb(0, 255, 0)"
         },
         "name": "precision",
         "type": "bar",
         "x": [
          "haze",
          "primary",
          "agriculture",
          "clear",
          "water",
          "habitation",
          "road",
          "cultivation",
          "slash_burn",
          "cloudy",
          "partly_cloudy",
          "conventional_mine",
          "bare_ground",
          "artisinal_mine",
          "blooming",
          "selective_logging",
          "blow_down"
         ],
         "y": [
          0.06553517119591877,
          0.9306872037914692,
          0.3016983016983017,
          0.7032270837457929,
          0.182071435678042,
          0.08840651208682783,
          0.20313424009461856,
          0.1078363725973386,
          0.005428345834978286,
          0.05239830591943268,
          0.17858909666567727,
          0.0020777678836449986,
          0.02080457503450996,
          0.008729292728895943,
          0.008420844065781653,
          0.008138052750269634,
          0.002960623704727129
         ]
        },
        {
         "marker": {
          "color": "rgb(0, 0, 255)"
         },
         "name": "f2",
         "type": "bar",
         "x": [
          "haze",
          "primary",
          "agriculture",
          "clear",
          "water",
          "habitation",
          "road",
          "cultivation",
          "slash_burn",
          "cloudy",
          "partly_cloudy",
          "conventional_mine",
          "bare_ground",
          "artisinal_mine",
          "blooming",
          "selective_logging",
          "blow_down"
         ],
         "y": [
          0.21430863009303822,
          0.5532729151014276,
          0.43488278324981283,
          0.5301967340358839,
          0.3668952243474076,
          0.2583174767917892,
          0.389661952658247,
          0.28824366338198876,
          0.026081183611532624,
          0.18501773666272522,
          0.36748238934810046,
          0.010191206444724838,
          0.08963466440101954,
          0.04093404037584892,
          0.039697365963011405,
          0.038160919540229876,
          0.014482958385632906
         ]
        }
       ],
       "layout": {
        "barmode": "group",
        "title": "Scores for Random Classifier. Recall=0.50, Precision=0.17, F2=0.36"
       }
      },
      "text/html": [
       "<div id=\"df09adfb-3275-4bfb-8984-32768ae1cace\" style=\"height: 525px; width: 100%;\" class=\"plotly-graph-div\"></div><script type=\"text/javascript\">require([\"plotly\"], function(Plotly) { window.PLOTLYENV=window.PLOTLYENV || {};window.PLOTLYENV.BASE_URL=\"https://plot.ly\";Plotly.newPlot(\"df09adfb-3275-4bfb-8984-32768ae1cace\", [{\"type\": \"bar\", \"x\": [\"haze\", \"primary\", \"agriculture\", \"clear\", \"water\", \"habitation\", \"road\", \"cultivation\", \"slash_burn\", \"cloudy\", \"partly_cloudy\", \"conventional_mine\", \"bare_ground\", \"artisinal_mine\", \"blooming\", \"selective_logging\", \"blow_down\"], \"y\": [0.49554896142433236, 0.5023449157962055, 0.4888313370022661, 0.4994726850875343, 0.491671144545943, 0.4972253052164262, 0.5057668711656441, 0.4954710144927536, 0.5339805825242718, 0.5037878787878788, 0.49958483254912817, 0.42857142857142855, 0.5184275184275184, 0.5269461077844312, 0.5555555555555556, 0.4911242603550296, 0.5357142857142857], \"name\": \"recall\", \"marker\": {\"color\": \"rgb(255, 0, 0)\"}}, {\"type\": \"bar\", \"x\": [\"haze\", \"primary\", \"agriculture\", \"clear\", \"water\", \"habitation\", \"road\", \"cultivation\", \"slash_burn\", \"cloudy\", \"partly_cloudy\", \"conventional_mine\", \"bare_ground\", \"artisinal_mine\", \"blooming\", \"selective_logging\", \"blow_down\"], \"y\": [0.06553517119591877, 0.9306872037914692, 0.3016983016983017, 0.7032270837457929, 0.182071435678042, 0.08840651208682783, 0.20313424009461856, 0.1078363725973386, 0.005428345834978286, 0.05239830591943268, 0.17858909666567727, 0.0020777678836449986, 0.02080457503450996, 0.008729292728895943, 0.008420844065781653, 0.008138052750269634, 0.002960623704727129], \"name\": \"precision\", \"marker\": {\"color\": \"rgb(0, 255, 0)\"}}, {\"type\": \"bar\", \"x\": [\"haze\", \"primary\", \"agriculture\", \"clear\", \"water\", \"habitation\", \"road\", \"cultivation\", \"slash_burn\", \"cloudy\", \"partly_cloudy\", \"conventional_mine\", \"bare_ground\", \"artisinal_mine\", \"blooming\", \"selective_logging\", \"blow_down\"], \"y\": [0.21430863009303822, 0.5532729151014276, 0.43488278324981283, 0.5301967340358839, 0.3668952243474076, 0.2583174767917892, 0.389661952658247, 0.28824366338198876, 0.026081183611532624, 0.18501773666272522, 0.36748238934810046, 0.010191206444724838, 0.08963466440101954, 0.04093404037584892, 0.039697365963011405, 0.038160919540229876, 0.014482958385632906], \"name\": \"f2\", \"marker\": {\"color\": \"rgb(0, 0, 255)\"}}], {\"title\": \"Scores for Random Classifier. Recall=0.50, Precision=0.17, F2=0.36\", \"barmode\": \"group\"}, {\"showLink\": true, \"linkText\": \"Export to plot.ly\"})});</script>"
      ],
      "text/vnd.plotly.v1+html": [
       "<div id=\"df09adfb-3275-4bfb-8984-32768ae1cace\" style=\"height: 525px; width: 100%;\" class=\"plotly-graph-div\"></div><script type=\"text/javascript\">require([\"plotly\"], function(Plotly) { window.PLOTLYENV=window.PLOTLYENV || {};window.PLOTLYENV.BASE_URL=\"https://plot.ly\";Plotly.newPlot(\"df09adfb-3275-4bfb-8984-32768ae1cace\", [{\"type\": \"bar\", \"x\": [\"haze\", \"primary\", \"agriculture\", \"clear\", \"water\", \"habitation\", \"road\", \"cultivation\", \"slash_burn\", \"cloudy\", \"partly_cloudy\", \"conventional_mine\", \"bare_ground\", \"artisinal_mine\", \"blooming\", \"selective_logging\", \"blow_down\"], \"y\": [0.49554896142433236, 0.5023449157962055, 0.4888313370022661, 0.4994726850875343, 0.491671144545943, 0.4972253052164262, 0.5057668711656441, 0.4954710144927536, 0.5339805825242718, 0.5037878787878788, 0.49958483254912817, 0.42857142857142855, 0.5184275184275184, 0.5269461077844312, 0.5555555555555556, 0.4911242603550296, 0.5357142857142857], \"name\": \"recall\", \"marker\": {\"color\": \"rgb(255, 0, 0)\"}}, {\"type\": \"bar\", \"x\": [\"haze\", \"primary\", \"agriculture\", \"clear\", \"water\", \"habitation\", \"road\", \"cultivation\", \"slash_burn\", \"cloudy\", \"partly_cloudy\", \"conventional_mine\", \"bare_ground\", \"artisinal_mine\", \"blooming\", \"selective_logging\", \"blow_down\"], \"y\": [0.06553517119591877, 0.9306872037914692, 0.3016983016983017, 0.7032270837457929, 0.182071435678042, 0.08840651208682783, 0.20313424009461856, 0.1078363725973386, 0.005428345834978286, 0.05239830591943268, 0.17858909666567727, 0.0020777678836449986, 0.02080457503450996, 0.008729292728895943, 0.008420844065781653, 0.008138052750269634, 0.002960623704727129], \"name\": \"precision\", \"marker\": {\"color\": \"rgb(0, 255, 0)\"}}, {\"type\": \"bar\", \"x\": [\"haze\", \"primary\", \"agriculture\", \"clear\", \"water\", \"habitation\", \"road\", \"cultivation\", \"slash_burn\", \"cloudy\", \"partly_cloudy\", \"conventional_mine\", \"bare_ground\", \"artisinal_mine\", \"blooming\", \"selective_logging\", \"blow_down\"], \"y\": [0.21430863009303822, 0.5532729151014276, 0.43488278324981283, 0.5301967340358839, 0.3668952243474076, 0.2583174767917892, 0.389661952658247, 0.28824366338198876, 0.026081183611532624, 0.18501773666272522, 0.36748238934810046, 0.010191206444724838, 0.08963466440101954, 0.04093404037584892, 0.039697365963011405, 0.038160919540229876, 0.014482958385632906], \"name\": \"f2\", \"marker\": {\"color\": \"rgb(0, 0, 255)\"}}], {\"title\": \"Scores for Random Classifier. Recall=0.50, Precision=0.17, F2=0.36\", \"barmode\": \"group\"}, {\"showLink\": true, \"linkText\": \"Export to plot.ly\"})});</script>"
      ]
     },
     "metadata": {},
     "output_type": "display_data"
    }
   ],
   "source": [
    "pred_labels_rand = planet.predict.random(num_test, num_labels)\n",
    "\n",
    "rand_fig = planet.predict.make_scores_plot(pred_labels_rand, test_labels, label_names, 'Random')\n",
    "plotly.offline.iplot(rand_fig, filename=os.path.join(data_dir, 'rand_scores.html'))"
   ]
  },
  {
   "cell_type": "markdown",
   "metadata": {},
   "source": [
    "First, note that the recall (`tp / (tp + fn)`) of this classifier is roughly `0.5` because both the number of true positives (`tp`) and false negatives (`fn`) should be half the number of positive labels (`p/2`). Also note that there is a bit more fluctuation for rarer labels like *conventional_mine*. The average used here, and elsewhere in these analyses, computes the total number of `tp` and `fn` across all samples and labels.\n",
    "\n",
    "Next, note that the precision (`tp / (tp + fp)`) of this classifier precision roughly follows the empirical distribution of the labels (see the `Data Exploration` notebook for comparison). That's because the number of false positives should be roughly half the number of negative occurrences, leading to a precision of `p/2 / (p/2 + n/2) =  p / (p + n)` which is the empirical probability of the label.\n",
    "\n",
    "Finally, note that the F2 score of this classifier is a little closer to the recall than precision, which is expected because it's a geometric mean between recall and precision that weights recall more heavily than precision."
   ]
  },
  {
   "cell_type": "markdown",
   "metadata": {},
   "source": [
    "## Empirical Random Classifier\n",
    "\n",
    "Instead of using a threshold of 0.5 for each label, we can use the empirical probability of each label instead."
   ]
  },
  {
   "cell_type": "code",
   "execution_count": 16,
   "metadata": {},
   "outputs": [
    {
     "data": {
      "application/vnd.plotly.v1+json": {
       "data": [
        {
         "marker": {
          "color": "rgb(255, 0, 0)"
         },
         "name": "recall",
         "type": "bar",
         "x": [
          "haze",
          "primary",
          "agriculture",
          "clear",
          "water",
          "habitation",
          "road",
          "cultivation",
          "slash_burn",
          "cloudy",
          "partly_cloudy",
          "conventional_mine",
          "bare_ground",
          "artisinal_mine",
          "blooming",
          "selective_logging",
          "blow_down"
         ],
         "y": [
          0.05489614243323442,
          0.9274674909400981,
          0.298154742635157,
          0.7060395134641074,
          0.17302525523911874,
          0.097669256381798,
          0.2022085889570552,
          0.11820652173913043,
          0.019417475728155338,
          0.03409090909090909,
          0.18295045668419596,
          0.02040816326530612,
          0.02457002457002457,
          0.011976047904191617,
          0.006535947712418301,
          0.005917159763313609,
          0.017857142857142856
         ]
        },
        {
         "marker": {
          "color": "rgb(0, 255, 0)"
         },
         "name": "precision",
         "type": "bar",
         "x": [
          "haze",
          "primary",
          "agriculture",
          "clear",
          "water",
          "habitation",
          "road",
          "cultivation",
          "slash_burn",
          "cloudy",
          "partly_cloudy",
          "conventional_mine",
          "bare_ground",
          "artisinal_mine",
          "blooming",
          "selective_logging",
          "blow_down"
         ],
         "y": [
          0.05723124516627997,
          0.9266773162939297,
          0.3018187776503359,
          0.7021395609005734,
          0.17349137931034483,
          0.09346787041954328,
          0.20451724993794987,
          0.10970996216897856,
          0.01904761904761905,
          0.034220532319391636,
          0.17860037827614159,
          0.02040816326530612,
          0.022026431718061675,
          0.01098901098901099,
          0.0058823529411764705,
          0.005988023952095809,
          0.02631578947368421
         ]
        },
        {
         "marker": {
          "color": "rgb(0, 0, 255)"
         },
         "name": "f2",
         "type": "bar",
         "x": [
          "haze",
          "primary",
          "agriculture",
          "clear",
          "water",
          "habitation",
          "road",
          "cultivation",
          "slash_burn",
          "cloudy",
          "partly_cloudy",
          "conventional_mine",
          "bare_ground",
          "artisinal_mine",
          "blooming",
          "selective_logging",
          "blow_down"
         ],
         "y": [
          0.055347793567688854,
          0.9273093482245618,
          0.2988804153821191,
          0.7052560609040088,
          0.17311827956989248,
          0.09679903200967992,
          0.202666141964681,
          0.1164035322451164,
          0.01934235976789168,
          0.03411675511751327,
          0.18206357075965407,
          0.02040816326530612,
          0.02401536983669549,
          0.011764705882352941,
          0.00639386189258312,
          0.005931198102016607,
          0.019083969465648856
         ]
        }
       ],
       "layout": {
        "barmode": "group",
        "title": "Scores for Empirical Random Classifier. Recall=0.55, Precision=0.55, F2=0.55"
       }
      },
      "text/html": [
       "<div id=\"aa675e87-7268-48cc-b118-54907c00d7b8\" style=\"height: 525px; width: 100%;\" class=\"plotly-graph-div\"></div><script type=\"text/javascript\">require([\"plotly\"], function(Plotly) { window.PLOTLYENV=window.PLOTLYENV || {};window.PLOTLYENV.BASE_URL=\"https://plot.ly\";Plotly.newPlot(\"aa675e87-7268-48cc-b118-54907c00d7b8\", [{\"type\": \"bar\", \"x\": [\"haze\", \"primary\", \"agriculture\", \"clear\", \"water\", \"habitation\", \"road\", \"cultivation\", \"slash_burn\", \"cloudy\", \"partly_cloudy\", \"conventional_mine\", \"bare_ground\", \"artisinal_mine\", \"blooming\", \"selective_logging\", \"blow_down\"], \"y\": [0.05489614243323442, 0.9274674909400981, 0.298154742635157, 0.7060395134641074, 0.17302525523911874, 0.097669256381798, 0.2022085889570552, 0.11820652173913043, 0.019417475728155338, 0.03409090909090909, 0.18295045668419596, 0.02040816326530612, 0.02457002457002457, 0.011976047904191617, 0.006535947712418301, 0.005917159763313609, 0.017857142857142856], \"name\": \"recall\", \"marker\": {\"color\": \"rgb(255, 0, 0)\"}}, {\"type\": \"bar\", \"x\": [\"haze\", \"primary\", \"agriculture\", \"clear\", \"water\", \"habitation\", \"road\", \"cultivation\", \"slash_burn\", \"cloudy\", \"partly_cloudy\", \"conventional_mine\", \"bare_ground\", \"artisinal_mine\", \"blooming\", \"selective_logging\", \"blow_down\"], \"y\": [0.05723124516627997, 0.9266773162939297, 0.3018187776503359, 0.7021395609005734, 0.17349137931034483, 0.09346787041954328, 0.20451724993794987, 0.10970996216897856, 0.01904761904761905, 0.034220532319391636, 0.17860037827614159, 0.02040816326530612, 0.022026431718061675, 0.01098901098901099, 0.0058823529411764705, 0.005988023952095809, 0.02631578947368421], \"name\": \"precision\", \"marker\": {\"color\": \"rgb(0, 255, 0)\"}}, {\"type\": \"bar\", \"x\": [\"haze\", \"primary\", \"agriculture\", \"clear\", \"water\", \"habitation\", \"road\", \"cultivation\", \"slash_burn\", \"cloudy\", \"partly_cloudy\", \"conventional_mine\", \"bare_ground\", \"artisinal_mine\", \"blooming\", \"selective_logging\", \"blow_down\"], \"y\": [0.055347793567688854, 0.9273093482245618, 0.2988804153821191, 0.7052560609040088, 0.17311827956989248, 0.09679903200967992, 0.202666141964681, 0.1164035322451164, 0.01934235976789168, 0.03411675511751327, 0.18206357075965407, 0.02040816326530612, 0.02401536983669549, 0.011764705882352941, 0.00639386189258312, 0.005931198102016607, 0.019083969465648856], \"name\": \"f2\", \"marker\": {\"color\": \"rgb(0, 0, 255)\"}}], {\"title\": \"Scores for Empirical Random Classifier. Recall=0.55, Precision=0.55, F2=0.55\", \"barmode\": \"group\"}, {\"showLink\": true, \"linkText\": \"Export to plot.ly\"})});</script>"
      ],
      "text/vnd.plotly.v1+html": [
       "<div id=\"aa675e87-7268-48cc-b118-54907c00d7b8\" style=\"height: 525px; width: 100%;\" class=\"plotly-graph-div\"></div><script type=\"text/javascript\">require([\"plotly\"], function(Plotly) { window.PLOTLYENV=window.PLOTLYENV || {};window.PLOTLYENV.BASE_URL=\"https://plot.ly\";Plotly.newPlot(\"aa675e87-7268-48cc-b118-54907c00d7b8\", [{\"type\": \"bar\", \"x\": [\"haze\", \"primary\", \"agriculture\", \"clear\", \"water\", \"habitation\", \"road\", \"cultivation\", \"slash_burn\", \"cloudy\", \"partly_cloudy\", \"conventional_mine\", \"bare_ground\", \"artisinal_mine\", \"blooming\", \"selective_logging\", \"blow_down\"], \"y\": [0.05489614243323442, 0.9274674909400981, 0.298154742635157, 0.7060395134641074, 0.17302525523911874, 0.097669256381798, 0.2022085889570552, 0.11820652173913043, 0.019417475728155338, 0.03409090909090909, 0.18295045668419596, 0.02040816326530612, 0.02457002457002457, 0.011976047904191617, 0.006535947712418301, 0.005917159763313609, 0.017857142857142856], \"name\": \"recall\", \"marker\": {\"color\": \"rgb(255, 0, 0)\"}}, {\"type\": \"bar\", \"x\": [\"haze\", \"primary\", \"agriculture\", \"clear\", \"water\", \"habitation\", \"road\", \"cultivation\", \"slash_burn\", \"cloudy\", \"partly_cloudy\", \"conventional_mine\", \"bare_ground\", \"artisinal_mine\", \"blooming\", \"selective_logging\", \"blow_down\"], \"y\": [0.05723124516627997, 0.9266773162939297, 0.3018187776503359, 0.7021395609005734, 0.17349137931034483, 0.09346787041954328, 0.20451724993794987, 0.10970996216897856, 0.01904761904761905, 0.034220532319391636, 0.17860037827614159, 0.02040816326530612, 0.022026431718061675, 0.01098901098901099, 0.0058823529411764705, 0.005988023952095809, 0.02631578947368421], \"name\": \"precision\", \"marker\": {\"color\": \"rgb(0, 255, 0)\"}}, {\"type\": \"bar\", \"x\": [\"haze\", \"primary\", \"agriculture\", \"clear\", \"water\", \"habitation\", \"road\", \"cultivation\", \"slash_burn\", \"cloudy\", \"partly_cloudy\", \"conventional_mine\", \"bare_ground\", \"artisinal_mine\", \"blooming\", \"selective_logging\", \"blow_down\"], \"y\": [0.055347793567688854, 0.9273093482245618, 0.2988804153821191, 0.7052560609040088, 0.17311827956989248, 0.09679903200967992, 0.202666141964681, 0.1164035322451164, 0.01934235976789168, 0.03411675511751327, 0.18206357075965407, 0.02040816326530612, 0.02401536983669549, 0.011764705882352941, 0.00639386189258312, 0.005931198102016607, 0.019083969465648856], \"name\": \"f2\", \"marker\": {\"color\": \"rgb(0, 0, 255)\"}}], {\"title\": \"Scores for Empirical Random Classifier. Recall=0.55, Precision=0.55, F2=0.55\", \"barmode\": \"group\"}, {\"showLink\": true, \"linkText\": \"Export to plot.ly\"})});</script>"
      ]
     },
     "metadata": {},
     "output_type": "display_data"
    }
   ],
   "source": [
    "train_label_probs = numpy.mean(train_labels, axis=0, keepdims=True)\n",
    "pred_labels_emp_rand = planet.predict.empirical_random(num_test, train_label_probs)\n",
    "\n",
    "emp_rand_fig = planet.predict.make_scores_plot(pred_labels_emp_rand, test_labels, label_names, 'Empirical Random')\n",
    "plotly.offline.iplot(emp_rand_fig, filename=os.path.join(data_dir, 'emp_rand_scores.html'))"
   ]
  },
  {
   "cell_type": "markdown",
   "metadata": {},
   "source": [
    "Introducing these probabilities increases the average recall a little, increases the average precision a lot and balances the two scores. Note that even though recall decreased for many labels, it increased overall because some labels much more frequently that others and so the overall score is boosted by predicting those more frequently."
   ]
  },
  {
   "cell_type": "markdown",
   "metadata": {},
   "source": [
    "## Nearest Neighbors Classifier\n",
    "\n",
    "The simplest supervised learning method is a nearest neighbors classifier. First we try resizing each image to be 1x1, which effectively make each image be represented by its mean RGB triple."
   ]
  },
  {
   "cell_type": "code",
   "execution_count": 17,
   "metadata": {},
   "outputs": [
    {
     "name": "stderr",
     "output_type": "stream",
     "text": [
      "630it [00:02, 403.90it/s]                      \n"
     ]
    },
    {
     "data": {
      "application/vnd.plotly.v1+json": {
       "data": [
        {
         "type": "bar",
         "x": [
          1,
          3,
          5,
          7,
          9,
          11,
          13
         ],
         "y": [
          0.6321780392526659,
          0.6506012373584488,
          0.6549872404363523,
          0.6558992659487929,
          0.6573612015761799,
          0.6583549410957039,
          0.658332456806954
         ]
        }
       ],
       "layout": {
        "title": "F2 Scores of kNN on 2000 1x1 Images"
       }
      },
      "text/html": [
       "<div id=\"7bb123a4-8899-4876-b166-6c78aab1201b\" style=\"height: 525px; width: 100%;\" class=\"plotly-graph-div\"></div><script type=\"text/javascript\">require([\"plotly\"], function(Plotly) { window.PLOTLYENV=window.PLOTLYENV || {};window.PLOTLYENV.BASE_URL=\"https://plot.ly\";Plotly.newPlot(\"7bb123a4-8899-4876-b166-6c78aab1201b\", [{\"type\": \"bar\", \"x\": [1, 3, 5, 7, 9, 11, 13], \"y\": [0.6321780392526659, 0.6506012373584488, 0.6549872404363523, 0.6558992659487929, 0.6573612015761799, 0.6583549410957039, 0.658332456806954]}], {\"title\": \"F2 Scores of kNN on 2000 1x1 Images\"}, {\"showLink\": true, \"linkText\": \"Export to plot.ly\"})});</script>"
      ],
      "text/vnd.plotly.v1+html": [
       "<div id=\"7bb123a4-8899-4876-b166-6c78aab1201b\" style=\"height: 525px; width: 100%;\" class=\"plotly-graph-div\"></div><script type=\"text/javascript\">require([\"plotly\"], function(Plotly) { window.PLOTLYENV=window.PLOTLYENV || {};window.PLOTLYENV.BASE_URL=\"https://plot.ly\";Plotly.newPlot(\"7bb123a4-8899-4876-b166-6c78aab1201b\", [{\"type\": \"bar\", \"x\": [1, 3, 5, 7, 9, 11, 13], \"y\": [0.6321780392526659, 0.6506012373584488, 0.6549872404363523, 0.6558992659487929, 0.6573612015761799, 0.6583549410957039, 0.658332456806954]}], {\"title\": \"F2 Scores of kNN on 2000 1x1 Images\"}, {\"showLink\": true, \"linkText\": \"Export to plot.ly\"})});</script>"
      ]
     },
     "metadata": {},
     "output_type": "display_data"
    }
   ],
   "source": [
    "image_names = list(tags.keys())\n",
    "\n",
    "image_size = (1, 1)\n",
    "image_dir = os.path.join(data_dir, 'train-jpg')\n",
    "all_images = planet.util.read_images(image_dir, image_names, out_size=image_size)\n",
    "train_images = all_images[train_inds, :]\n",
    "test_images = all_images[test_inds, :]"
   ]
  },
  {
   "cell_type": "code",
   "execution_count": 25,
   "metadata": {},
   "outputs": [
    {
     "name": "stderr",
     "output_type": "stream",
     "text": [
      "2145it [00:04, 705.13it/s]                     \n"
     ]
    },
    {
     "data": {
      "application/vnd.plotly.v1+json": {
       "data": [
        {
         "type": "bar",
         "x": [
          1,
          3,
          5,
          7,
          9,
          11,
          13,
          15,
          17,
          19,
          21,
          23,
          25
         ],
         "y": [
          0.6321780392526659,
          0.6506012373584488,
          0.6549872404363523,
          0.6558992659487929,
          0.6573612015761799,
          0.6583549410957039,
          0.658332456806954,
          0.6578586626246113,
          0.6579417456381481,
          0.658080300835923,
          0.6577968432978287,
          0.6566111491379383,
          0.6566418378518674
         ]
        }
       ],
       "layout": {
        "title": "F2 Scores of kNN on 1x1 Images"
       }
      },
      "text/html": [
       "<div id=\"001c2f44-9a71-4b75-b168-6dd7363ae4e6\" style=\"height: 525px; width: 100%;\" class=\"plotly-graph-div\"></div><script type=\"text/javascript\">require([\"plotly\"], function(Plotly) { window.PLOTLYENV=window.PLOTLYENV || {};window.PLOTLYENV.BASE_URL=\"https://plot.ly\";Plotly.newPlot(\"001c2f44-9a71-4b75-b168-6dd7363ae4e6\", [{\"type\": \"bar\", \"x\": [1, 3, 5, 7, 9, 11, 13, 15, 17, 19, 21, 23, 25], \"y\": [0.6321780392526659, 0.6506012373584488, 0.6549872404363523, 0.6558992659487929, 0.6573612015761799, 0.6583549410957039, 0.658332456806954, 0.6578586626246113, 0.6579417456381481, 0.658080300835923, 0.6577968432978287, 0.6566111491379383, 0.6566418378518674]}], {\"title\": \"F2 Scores of kNN on 1x1 Images\"}, {\"showLink\": true, \"linkText\": \"Export to plot.ly\"})});</script>"
      ],
      "text/vnd.plotly.v1+html": [
       "<div id=\"001c2f44-9a71-4b75-b168-6dd7363ae4e6\" style=\"height: 525px; width: 100%;\" class=\"plotly-graph-div\"></div><script type=\"text/javascript\">require([\"plotly\"], function(Plotly) { window.PLOTLYENV=window.PLOTLYENV || {};window.PLOTLYENV.BASE_URL=\"https://plot.ly\";Plotly.newPlot(\"001c2f44-9a71-4b75-b168-6dd7363ae4e6\", [{\"type\": \"bar\", \"x\": [1, 3, 5, 7, 9, 11, 13, 15, 17, 19, 21, 23, 25], \"y\": [0.6321780392526659, 0.6506012373584488, 0.6549872404363523, 0.6558992659487929, 0.6573612015761799, 0.6583549410957039, 0.658332456806954, 0.6578586626246113, 0.6579417456381481, 0.658080300835923, 0.6577968432978287, 0.6566111491379383, 0.6566418378518674]}], {\"title\": \"F2 Scores of kNN on 1x1 Images\"}, {\"showLink\": true, \"linkText\": \"Export to plot.ly\"})});</script>"
      ]
     },
     "metadata": {},
     "output_type": "display_data"
    }
   ],
   "source": [
    "ks = range(1, 27, 2)\n",
    "knn_scores = planet.predict.score_k_nearest_neighbors(train_images, train_labels, ks, 5)\n",
    "        \n",
    "knn_scores_fig = planet.util.make_bar_plot(ks, knn_scores, 'F2 Scores of kNN on 1x1 Images')\n",
    "plotly.offline.iplot(knn_scores_fig, filename=os.path.join(data_dir, 'knns_f2_scores.html'))"
   ]
  },
  {
   "cell_type": "code",
   "execution_count": 26,
   "metadata": {},
   "outputs": [
    {
     "name": "stderr",
     "output_type": "stream",
     "text": [
      "/Users/sweet/anaconda/envs/py36/lib/python3.6/site-packages/sklearn/metrics/classification.py:1113: UndefinedMetricWarning:\n",
      "\n",
      "Precision is ill-defined and being set to 0.0 in labels with no predicted samples.\n",
      "\n",
      "/Users/sweet/anaconda/envs/py36/lib/python3.6/site-packages/sklearn/metrics/classification.py:1113: UndefinedMetricWarning:\n",
      "\n",
      "F-score is ill-defined and being set to 0.0 in labels with no predicted samples.\n",
      "\n"
     ]
    },
    {
     "data": {
      "application/vnd.plotly.v1+json": {
       "data": [
        {
         "marker": {
          "color": "rgb(255, 0, 0)"
         },
         "name": "recall",
         "type": "bar",
         "x": [
          "haze",
          "primary",
          "agriculture",
          "clear",
          "water",
          "habitation",
          "road",
          "cultivation",
          "slash_burn",
          "cloudy",
          "partly_cloudy",
          "conventional_mine",
          "bare_ground",
          "artisinal_mine",
          "blooming",
          "selective_logging",
          "blow_down"
         ],
         "y": [
          0.2129080118694362,
          0.9795352803240247,
          0.4049854321786986,
          0.9280039372846798,
          0.07925846319183234,
          0.029966703662597113,
          0.2265030674846626,
          0.003170289855072464,
          0,
          0.4990530303030303,
          0.05673955161915306,
          0,
          0.02457002457002457,
          0.11976047904191617,
          0,
          0,
          0
         ]
        },
        {
         "marker": {
          "color": "rgb(0, 255, 0)"
         },
         "name": "precision",
         "type": "bar",
         "x": [
          "haze",
          "primary",
          "agriculture",
          "clear",
          "water",
          "habitation",
          "road",
          "cultivation",
          "slash_burn",
          "cloudy",
          "partly_cloudy",
          "conventional_mine",
          "bare_ground",
          "artisinal_mine",
          "blooming",
          "selective_logging",
          "blow_down"
         ],
         "y": [
          0.4880952380952381,
          0.9541112956810631,
          0.6216149068322981,
          0.8194065060839334,
          0.4573643410852713,
          0.33540372670807456,
          0.5226500566251415,
          0.14,
          0,
          0.6341756919374247,
          0.35223367697594504,
          0,
          0.47619047619047616,
          0.6666666666666666,
          0,
          0,
          0
         ]
        },
        {
         "marker": {
          "color": "rgb(0, 0, 255)"
         },
         "name": "f2",
         "type": "bar",
         "x": [
          "haze",
          "primary",
          "agriculture",
          "clear",
          "water",
          "habitation",
          "road",
          "cultivation",
          "slash_burn",
          "cloudy",
          "partly_cloudy",
          "conventional_mine",
          "bare_ground",
          "artisinal_mine",
          "blooming",
          "selective_logging",
          "blow_down"
         ],
         "y": [
          0.23996655518394652,
          0.9743426632739608,
          0.4353272784215471,
          0.9040410958904109,
          0.09495911929440547,
          0.03663997828742027,
          0.2554522307096203,
          0.003940553929295204,
          0,
          0.5212660731948565,
          0.06817879473194094,
          0,
          0.030321406913280773,
          0.14326647564469913,
          0,
          0,
          0
         ]
        }
       ],
       "layout": {
        "barmode": "group",
        "title": "Scores for F2 Scores of kNN (k=11) on 1x1 Images Classifier. Recall=0.63, Precision=0.83, F2=0.66"
       }
      },
      "text/html": [
       "<div id=\"1cd2989e-557c-44ad-9c54-2a80ec318e16\" style=\"height: 525px; width: 100%;\" class=\"plotly-graph-div\"></div><script type=\"text/javascript\">require([\"plotly\"], function(Plotly) { window.PLOTLYENV=window.PLOTLYENV || {};window.PLOTLYENV.BASE_URL=\"https://plot.ly\";Plotly.newPlot(\"1cd2989e-557c-44ad-9c54-2a80ec318e16\", [{\"type\": \"bar\", \"x\": [\"haze\", \"primary\", \"agriculture\", \"clear\", \"water\", \"habitation\", \"road\", \"cultivation\", \"slash_burn\", \"cloudy\", \"partly_cloudy\", \"conventional_mine\", \"bare_ground\", \"artisinal_mine\", \"blooming\", \"selective_logging\", \"blow_down\"], \"y\": [0.2129080118694362, 0.9795352803240247, 0.4049854321786986, 0.9280039372846798, 0.07925846319183234, 0.029966703662597113, 0.2265030674846626, 0.003170289855072464, 0.0, 0.4990530303030303, 0.05673955161915306, 0.0, 0.02457002457002457, 0.11976047904191617, 0.0, 0.0, 0.0], \"name\": \"recall\", \"marker\": {\"color\": \"rgb(255, 0, 0)\"}}, {\"type\": \"bar\", \"x\": [\"haze\", \"primary\", \"agriculture\", \"clear\", \"water\", \"habitation\", \"road\", \"cultivation\", \"slash_burn\", \"cloudy\", \"partly_cloudy\", \"conventional_mine\", \"bare_ground\", \"artisinal_mine\", \"blooming\", \"selective_logging\", \"blow_down\"], \"y\": [0.4880952380952381, 0.9541112956810631, 0.6216149068322981, 0.8194065060839334, 0.4573643410852713, 0.33540372670807456, 0.5226500566251415, 0.14, 0.0, 0.6341756919374247, 0.35223367697594504, 0.0, 0.47619047619047616, 0.6666666666666666, 0.0, 0.0, 0.0], \"name\": \"precision\", \"marker\": {\"color\": \"rgb(0, 255, 0)\"}}, {\"type\": \"bar\", \"x\": [\"haze\", \"primary\", \"agriculture\", \"clear\", \"water\", \"habitation\", \"road\", \"cultivation\", \"slash_burn\", \"cloudy\", \"partly_cloudy\", \"conventional_mine\", \"bare_ground\", \"artisinal_mine\", \"blooming\", \"selective_logging\", \"blow_down\"], \"y\": [0.23996655518394652, 0.9743426632739608, 0.4353272784215471, 0.9040410958904109, 0.09495911929440547, 0.03663997828742027, 0.2554522307096203, 0.003940553929295204, 0.0, 0.5212660731948565, 0.06817879473194094, 0.0, 0.030321406913280773, 0.14326647564469913, 0.0, 0.0, 0.0], \"name\": \"f2\", \"marker\": {\"color\": \"rgb(0, 0, 255)\"}}], {\"title\": \"Scores for F2 Scores of kNN (k=11) on 1x1 Images Classifier. Recall=0.63, Precision=0.83, F2=0.66\", \"barmode\": \"group\"}, {\"showLink\": true, \"linkText\": \"Export to plot.ly\"})});</script>"
      ],
      "text/vnd.plotly.v1+html": [
       "<div id=\"1cd2989e-557c-44ad-9c54-2a80ec318e16\" style=\"height: 525px; width: 100%;\" class=\"plotly-graph-div\"></div><script type=\"text/javascript\">require([\"plotly\"], function(Plotly) { window.PLOTLYENV=window.PLOTLYENV || {};window.PLOTLYENV.BASE_URL=\"https://plot.ly\";Plotly.newPlot(\"1cd2989e-557c-44ad-9c54-2a80ec318e16\", [{\"type\": \"bar\", \"x\": [\"haze\", \"primary\", \"agriculture\", \"clear\", \"water\", \"habitation\", \"road\", \"cultivation\", \"slash_burn\", \"cloudy\", \"partly_cloudy\", \"conventional_mine\", \"bare_ground\", \"artisinal_mine\", \"blooming\", \"selective_logging\", \"blow_down\"], \"y\": [0.2129080118694362, 0.9795352803240247, 0.4049854321786986, 0.9280039372846798, 0.07925846319183234, 0.029966703662597113, 0.2265030674846626, 0.003170289855072464, 0.0, 0.4990530303030303, 0.05673955161915306, 0.0, 0.02457002457002457, 0.11976047904191617, 0.0, 0.0, 0.0], \"name\": \"recall\", \"marker\": {\"color\": \"rgb(255, 0, 0)\"}}, {\"type\": \"bar\", \"x\": [\"haze\", \"primary\", \"agriculture\", \"clear\", \"water\", \"habitation\", \"road\", \"cultivation\", \"slash_burn\", \"cloudy\", \"partly_cloudy\", \"conventional_mine\", \"bare_ground\", \"artisinal_mine\", \"blooming\", \"selective_logging\", \"blow_down\"], \"y\": [0.4880952380952381, 0.9541112956810631, 0.6216149068322981, 0.8194065060839334, 0.4573643410852713, 0.33540372670807456, 0.5226500566251415, 0.14, 0.0, 0.6341756919374247, 0.35223367697594504, 0.0, 0.47619047619047616, 0.6666666666666666, 0.0, 0.0, 0.0], \"name\": \"precision\", \"marker\": {\"color\": \"rgb(0, 255, 0)\"}}, {\"type\": \"bar\", \"x\": [\"haze\", \"primary\", \"agriculture\", \"clear\", \"water\", \"habitation\", \"road\", \"cultivation\", \"slash_burn\", \"cloudy\", \"partly_cloudy\", \"conventional_mine\", \"bare_ground\", \"artisinal_mine\", \"blooming\", \"selective_logging\", \"blow_down\"], \"y\": [0.23996655518394652, 0.9743426632739608, 0.4353272784215471, 0.9040410958904109, 0.09495911929440547, 0.03663997828742027, 0.2554522307096203, 0.003940553929295204, 0.0, 0.5212660731948565, 0.06817879473194094, 0.0, 0.030321406913280773, 0.14326647564469913, 0.0, 0.0, 0.0], \"name\": \"f2\", \"marker\": {\"color\": \"rgb(0, 0, 255)\"}}], {\"title\": \"Scores for F2 Scores of kNN (k=11) on 1x1 Images Classifier. Recall=0.63, Precision=0.83, F2=0.66\", \"barmode\": \"group\"}, {\"showLink\": true, \"linkText\": \"Export to plot.ly\"})});</script>"
      ]
     },
     "metadata": {},
     "output_type": "display_data"
    }
   ],
   "source": [
    "best_k = ks[numpy.argmax(knn_scores)]\n",
    "knn = planet.predict.KNearestNeighbors(train_images, train_labels, k=best_k)\n",
    "pred_labels_knn = knn.predict(test_images)\n",
    "\n",
    "knn_fig = planet.predict.make_scores_plot(pred_labels_knn, test_labels, label_names, 'F2 Scores of kNN (k={}) on 1x1 Images'.format(best_k))\n",
    "plotly.offline.iplot(knn_fig, filename=os.path.join(data_dir, 'knn_scores.html'))"
   ]
  },
  {
   "cell_type": "code",
   "execution_count": null,
   "metadata": {
    "collapsed": true
   },
   "outputs": [],
   "source": []
  }
 ],
 "metadata": {
  "kernelspec": {
   "display_name": "Python 3",
   "language": "python",
   "name": "python3"
  },
  "language_info": {
   "codemirror_mode": {
    "name": "ipython",
    "version": 3
   },
   "file_extension": ".py",
   "mimetype": "text/x-python",
   "name": "python",
   "nbconvert_exporter": "python",
   "pygments_lexer": "ipython3",
   "version": "3.6.1"
  }
 },
 "nbformat": 4,
 "nbformat_minor": 2
}

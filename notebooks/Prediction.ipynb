{
 "cells": [
  {
   "cell_type": "markdown",
   "metadata": {},
   "source": [
    "# Prediction\n",
    "\n",
    "This notebook shows off the prediction methods we use in this project, in addition to the evaluation scheme."
   ]
  },
  {
   "cell_type": "code",
   "execution_count": 14,
   "metadata": {},
   "outputs": [
    {
     "data": {
      "text/html": [
       "<script>requirejs.config({paths: { 'plotly': ['https://cdn.plot.ly/plotly-latest.min']},});if(!window.Plotly) {{require(['plotly'],function(plotly) {window.Plotly=plotly;});}}</script>"
      ],
      "text/vnd.plotly.v1+html": [
       "<script>requirejs.config({paths: { 'plotly': ['https://cdn.plot.ly/plotly-latest.min']},});if(!window.Plotly) {{require(['plotly'],function(plotly) {window.Plotly=plotly;});}}</script>"
      ]
     },
     "metadata": {},
     "output_type": "display_data"
    }
   ],
   "source": [
    "import sys, os\n",
    "\n",
    "import plotly\n",
    "plotly.offline.init_notebook_mode(connected=True)\n",
    "\n",
    "sys.path.append('..')\n",
    "import planet.predict, planet.util\n",
    "\n",
    "import numpy\n",
    "\n",
    "data_dir = '../data'"
   ]
  },
  {
   "cell_type": "markdown",
   "metadata": {},
   "source": [
    "First, we load all the label data."
   ]
  },
  {
   "cell_type": "code",
   "execution_count": 15,
   "metadata": {},
   "outputs": [],
   "source": [
    "all_tags = planet.util.read_tags(os.path.join(data_dir, 'train_v2.csv'))\n",
    "tag_indices = planet.util.get_tag_indices(all_tags)\n",
    "label_names = tag_indices.keys()\n",
    "all_labels = planet.util.tags_to_labels(all_tags, tag_indices)\n",
    "(num_all, num_labels) = all_labels.shape"
   ]
  },
  {
   "cell_type": "markdown",
   "metadata": {},
   "source": [
    "Then we split the labeled data into a training set and a test set."
   ]
  },
  {
   "cell_type": "code",
   "execution_count": 16,
   "metadata": {},
   "outputs": [],
   "source": [
    "train_inds, test_inds = next(planet.util.split_data(num_all, 2))\n",
    "num_train = len(train_inds)\n",
    "num_test = len(test_inds)\n",
    "\n",
    "train_labels = all_labels[train_inds, :]\n",
    "test_labels = all_labels[test_inds, :]"
   ]
  },
  {
   "cell_type": "markdown",
   "metadata": {},
   "source": [
    "## Random Classifier\n",
    "\n",
    "In order to establish a baseline for performance, we first use a classifier that assigns labels at random by flipping an unbiased coin for each label."
   ]
  },
  {
   "cell_type": "code",
   "execution_count": 4,
   "metadata": {},
   "outputs": [
    {
     "data": {
      "application/vnd.plotly.v1+json": {
       "data": [
        {
         "marker": {
          "color": "rgb(255, 0, 0)"
         },
         "name": "recall",
         "type": "bar",
         "x": [
          "haze",
          "primary",
          "agriculture",
          "clear",
          "water",
          "habitation",
          "road",
          "cultivation",
          "slash_burn",
          "cloudy",
          "partly_cloudy",
          "conventional_mine",
          "bare_ground",
          "artisinal_mine",
          "blooming",
          "selective_logging",
          "blow_down"
         ],
         "y": [
          0.49554896142433236,
          0.5023449157962055,
          0.4888313370022661,
          0.4994726850875343,
          0.491671144545943,
          0.4972253052164262,
          0.5057668711656441,
          0.4954710144927536,
          0.5339805825242718,
          0.5037878787878788,
          0.49958483254912817,
          0.42857142857142855,
          0.5184275184275184,
          0.5269461077844312,
          0.5555555555555556,
          0.4911242603550296,
          0.5357142857142857
         ]
        },
        {
         "marker": {
          "color": "rgb(0, 255, 0)"
         },
         "name": "precision",
         "type": "bar",
         "x": [
          "haze",
          "primary",
          "agriculture",
          "clear",
          "water",
          "habitation",
          "road",
          "cultivation",
          "slash_burn",
          "cloudy",
          "partly_cloudy",
          "conventional_mine",
          "bare_ground",
          "artisinal_mine",
          "blooming",
          "selective_logging",
          "blow_down"
         ],
         "y": [
          0.06553517119591877,
          0.9306872037914692,
          0.3016983016983017,
          0.7032270837457929,
          0.182071435678042,
          0.08840651208682783,
          0.20313424009461856,
          0.1078363725973386,
          0.005428345834978286,
          0.05239830591943268,
          0.17858909666567727,
          0.0020777678836449986,
          0.02080457503450996,
          0.008729292728895943,
          0.008420844065781653,
          0.008138052750269634,
          0.002960623704727129
         ]
        },
        {
         "marker": {
          "color": "rgb(0, 0, 255)"
         },
         "name": "f2",
         "type": "bar",
         "x": [
          "haze",
          "primary",
          "agriculture",
          "clear",
          "water",
          "habitation",
          "road",
          "cultivation",
          "slash_burn",
          "cloudy",
          "partly_cloudy",
          "conventional_mine",
          "bare_ground",
          "artisinal_mine",
          "blooming",
          "selective_logging",
          "blow_down"
         ],
         "y": [
          0.21430863009303822,
          0.5532729151014276,
          0.43488278324981283,
          0.5301967340358839,
          0.3668952243474076,
          0.2583174767917892,
          0.389661952658247,
          0.28824366338198876,
          0.026081183611532624,
          0.18501773666272522,
          0.36748238934810046,
          0.010191206444724838,
          0.08963466440101954,
          0.04093404037584892,
          0.039697365963011405,
          0.038160919540229876,
          0.014482958385632906
         ]
        }
       ],
       "layout": {
        "barmode": "group",
        "title": "Scores for Random Classifier. Recall=0.50, Precision=0.17, F2=0.36"
       }
      },
      "text/html": [
       "<div id=\"a01e91e0-0d2d-4c49-8802-c936770eb1b2\" style=\"height: 525px; width: 100%;\" class=\"plotly-graph-div\"></div><script type=\"text/javascript\">require([\"plotly\"], function(Plotly) { window.PLOTLYENV=window.PLOTLYENV || {};window.PLOTLYENV.BASE_URL=\"https://plot.ly\";Plotly.newPlot(\"a01e91e0-0d2d-4c49-8802-c936770eb1b2\", [{\"type\": \"bar\", \"x\": [\"haze\", \"primary\", \"agriculture\", \"clear\", \"water\", \"habitation\", \"road\", \"cultivation\", \"slash_burn\", \"cloudy\", \"partly_cloudy\", \"conventional_mine\", \"bare_ground\", \"artisinal_mine\", \"blooming\", \"selective_logging\", \"blow_down\"], \"y\": [0.49554896142433236, 0.5023449157962055, 0.4888313370022661, 0.4994726850875343, 0.491671144545943, 0.4972253052164262, 0.5057668711656441, 0.4954710144927536, 0.5339805825242718, 0.5037878787878788, 0.49958483254912817, 0.42857142857142855, 0.5184275184275184, 0.5269461077844312, 0.5555555555555556, 0.4911242603550296, 0.5357142857142857], \"name\": \"recall\", \"marker\": {\"color\": \"rgb(255, 0, 0)\"}}, {\"type\": \"bar\", \"x\": [\"haze\", \"primary\", \"agriculture\", \"clear\", \"water\", \"habitation\", \"road\", \"cultivation\", \"slash_burn\", \"cloudy\", \"partly_cloudy\", \"conventional_mine\", \"bare_ground\", \"artisinal_mine\", \"blooming\", \"selective_logging\", \"blow_down\"], \"y\": [0.06553517119591877, 0.9306872037914692, 0.3016983016983017, 0.7032270837457929, 0.182071435678042, 0.08840651208682783, 0.20313424009461856, 0.1078363725973386, 0.005428345834978286, 0.05239830591943268, 0.17858909666567727, 0.0020777678836449986, 0.02080457503450996, 0.008729292728895943, 0.008420844065781653, 0.008138052750269634, 0.002960623704727129], \"name\": \"precision\", \"marker\": {\"color\": \"rgb(0, 255, 0)\"}}, {\"type\": \"bar\", \"x\": [\"haze\", \"primary\", \"agriculture\", \"clear\", \"water\", \"habitation\", \"road\", \"cultivation\", \"slash_burn\", \"cloudy\", \"partly_cloudy\", \"conventional_mine\", \"bare_ground\", \"artisinal_mine\", \"blooming\", \"selective_logging\", \"blow_down\"], \"y\": [0.21430863009303822, 0.5532729151014276, 0.43488278324981283, 0.5301967340358839, 0.3668952243474076, 0.2583174767917892, 0.389661952658247, 0.28824366338198876, 0.026081183611532624, 0.18501773666272522, 0.36748238934810046, 0.010191206444724838, 0.08963466440101954, 0.04093404037584892, 0.039697365963011405, 0.038160919540229876, 0.014482958385632906], \"name\": \"f2\", \"marker\": {\"color\": \"rgb(0, 0, 255)\"}}], {\"title\": \"Scores for Random Classifier. Recall=0.50, Precision=0.17, F2=0.36\", \"barmode\": \"group\"}, {\"showLink\": true, \"linkText\": \"Export to plot.ly\"})});</script>"
      ],
      "text/vnd.plotly.v1+html": [
       "<div id=\"a01e91e0-0d2d-4c49-8802-c936770eb1b2\" style=\"height: 525px; width: 100%;\" class=\"plotly-graph-div\"></div><script type=\"text/javascript\">require([\"plotly\"], function(Plotly) { window.PLOTLYENV=window.PLOTLYENV || {};window.PLOTLYENV.BASE_URL=\"https://plot.ly\";Plotly.newPlot(\"a01e91e0-0d2d-4c49-8802-c936770eb1b2\", [{\"type\": \"bar\", \"x\": [\"haze\", \"primary\", \"agriculture\", \"clear\", \"water\", \"habitation\", \"road\", \"cultivation\", \"slash_burn\", \"cloudy\", \"partly_cloudy\", \"conventional_mine\", \"bare_ground\", \"artisinal_mine\", \"blooming\", \"selective_logging\", \"blow_down\"], \"y\": [0.49554896142433236, 0.5023449157962055, 0.4888313370022661, 0.4994726850875343, 0.491671144545943, 0.4972253052164262, 0.5057668711656441, 0.4954710144927536, 0.5339805825242718, 0.5037878787878788, 0.49958483254912817, 0.42857142857142855, 0.5184275184275184, 0.5269461077844312, 0.5555555555555556, 0.4911242603550296, 0.5357142857142857], \"name\": \"recall\", \"marker\": {\"color\": \"rgb(255, 0, 0)\"}}, {\"type\": \"bar\", \"x\": [\"haze\", \"primary\", \"agriculture\", \"clear\", \"water\", \"habitation\", \"road\", \"cultivation\", \"slash_burn\", \"cloudy\", \"partly_cloudy\", \"conventional_mine\", \"bare_ground\", \"artisinal_mine\", \"blooming\", \"selective_logging\", \"blow_down\"], \"y\": [0.06553517119591877, 0.9306872037914692, 0.3016983016983017, 0.7032270837457929, 0.182071435678042, 0.08840651208682783, 0.20313424009461856, 0.1078363725973386, 0.005428345834978286, 0.05239830591943268, 0.17858909666567727, 0.0020777678836449986, 0.02080457503450996, 0.008729292728895943, 0.008420844065781653, 0.008138052750269634, 0.002960623704727129], \"name\": \"precision\", \"marker\": {\"color\": \"rgb(0, 255, 0)\"}}, {\"type\": \"bar\", \"x\": [\"haze\", \"primary\", \"agriculture\", \"clear\", \"water\", \"habitation\", \"road\", \"cultivation\", \"slash_burn\", \"cloudy\", \"partly_cloudy\", \"conventional_mine\", \"bare_ground\", \"artisinal_mine\", \"blooming\", \"selective_logging\", \"blow_down\"], \"y\": [0.21430863009303822, 0.5532729151014276, 0.43488278324981283, 0.5301967340358839, 0.3668952243474076, 0.2583174767917892, 0.389661952658247, 0.28824366338198876, 0.026081183611532624, 0.18501773666272522, 0.36748238934810046, 0.010191206444724838, 0.08963466440101954, 0.04093404037584892, 0.039697365963011405, 0.038160919540229876, 0.014482958385632906], \"name\": \"f2\", \"marker\": {\"color\": \"rgb(0, 0, 255)\"}}], {\"title\": \"Scores for Random Classifier. Recall=0.50, Precision=0.17, F2=0.36\", \"barmode\": \"group\"}, {\"showLink\": true, \"linkText\": \"Export to plot.ly\"})});</script>"
      ]
     },
     "metadata": {},
     "output_type": "display_data"
    }
   ],
   "source": [
    "pred_labels_rand = planet.predict.random(num_test, num_labels)\n",
    "\n",
    "rand_fig = planet.predict.make_scores_plot(pred_labels_rand, test_labels, label_names, 'Random')\n",
    "plotly.offline.iplot(rand_fig, filename=os.path.join(data_dir, 'rand_scores.html'))"
   ]
  },
  {
   "cell_type": "markdown",
   "metadata": {},
   "source": [
    "First, note that the recall (`tp / (tp + fn)`) of this classifier is roughly `0.5` because both the number of true positives (`tp`) and false negatives (`fn`) should be half the number of positive labels (`p/2`). Also note that there is a bit more fluctuation for rarer labels like *conventional_mine*. The average used here, and elsewhere in these analyses, computes the total number of `tp` and `fn` across all samples and labels.\n",
    "\n",
    "Next, note that the precision (`tp / (tp + fp)`) of this classifier precision roughly follows the empirical distribution of the labels (see the `Data Exploration` notebook for comparison). That's because the number of false positives should be roughly half the number of negative occurrences, leading to a precision of `p/2 / (p/2 + n/2) =  p / (p + n)` which is the empirical probability of the label.\n",
    "\n",
    "Finally, note that the F2 score of this classifier is a little closer to the recall than precision, which is expected because it's a geometric mean between recall and precision that weights recall more heavily than precision."
   ]
  },
  {
   "cell_type": "markdown",
   "metadata": {},
   "source": [
    "## Empirical Random Classifier\n",
    "\n",
    "Instead of using a threshold of 0.5 for each label, we can use the empirical probability of each label instead."
   ]
  },
  {
   "cell_type": "code",
   "execution_count": 5,
   "metadata": {},
   "outputs": [
    {
     "data": {
      "application/vnd.plotly.v1+json": {
       "data": [
        {
         "marker": {
          "color": "rgb(255, 0, 0)"
         },
         "name": "recall",
         "type": "bar",
         "x": [
          "haze",
          "primary",
          "agriculture",
          "clear",
          "water",
          "habitation",
          "road",
          "cultivation",
          "slash_burn",
          "cloudy",
          "partly_cloudy",
          "conventional_mine",
          "bare_ground",
          "artisinal_mine",
          "blooming",
          "selective_logging",
          "blow_down"
         ],
         "y": [
          0.05489614243323442,
          0.9274674909400981,
          0.298154742635157,
          0.7060395134641074,
          0.17302525523911874,
          0.097669256381798,
          0.2022085889570552,
          0.11820652173913043,
          0.019417475728155338,
          0.03409090909090909,
          0.18295045668419596,
          0.02040816326530612,
          0.02457002457002457,
          0.011976047904191617,
          0.006535947712418301,
          0.005917159763313609,
          0.017857142857142856
         ]
        },
        {
         "marker": {
          "color": "rgb(0, 255, 0)"
         },
         "name": "precision",
         "type": "bar",
         "x": [
          "haze",
          "primary",
          "agriculture",
          "clear",
          "water",
          "habitation",
          "road",
          "cultivation",
          "slash_burn",
          "cloudy",
          "partly_cloudy",
          "conventional_mine",
          "bare_ground",
          "artisinal_mine",
          "blooming",
          "selective_logging",
          "blow_down"
         ],
         "y": [
          0.05723124516627997,
          0.9266773162939297,
          0.3018187776503359,
          0.7021395609005734,
          0.17349137931034483,
          0.09346787041954328,
          0.20451724993794987,
          0.10970996216897856,
          0.01904761904761905,
          0.034220532319391636,
          0.17860037827614159,
          0.02040816326530612,
          0.022026431718061675,
          0.01098901098901099,
          0.0058823529411764705,
          0.005988023952095809,
          0.02631578947368421
         ]
        },
        {
         "marker": {
          "color": "rgb(0, 0, 255)"
         },
         "name": "f2",
         "type": "bar",
         "x": [
          "haze",
          "primary",
          "agriculture",
          "clear",
          "water",
          "habitation",
          "road",
          "cultivation",
          "slash_burn",
          "cloudy",
          "partly_cloudy",
          "conventional_mine",
          "bare_ground",
          "artisinal_mine",
          "blooming",
          "selective_logging",
          "blow_down"
         ],
         "y": [
          0.055347793567688854,
          0.9273093482245618,
          0.2988804153821191,
          0.7052560609040088,
          0.17311827956989248,
          0.09679903200967992,
          0.202666141964681,
          0.1164035322451164,
          0.01934235976789168,
          0.03411675511751327,
          0.18206357075965407,
          0.02040816326530612,
          0.02401536983669549,
          0.011764705882352941,
          0.00639386189258312,
          0.005931198102016607,
          0.019083969465648856
         ]
        }
       ],
       "layout": {
        "barmode": "group",
        "title": "Scores for Empirical Random Classifier. Recall=0.55, Precision=0.55, F2=0.55"
       }
      },
      "text/html": [
       "<div id=\"ac27bf4b-feb5-4689-92fa-c340ab1e983c\" style=\"height: 525px; width: 100%;\" class=\"plotly-graph-div\"></div><script type=\"text/javascript\">require([\"plotly\"], function(Plotly) { window.PLOTLYENV=window.PLOTLYENV || {};window.PLOTLYENV.BASE_URL=\"https://plot.ly\";Plotly.newPlot(\"ac27bf4b-feb5-4689-92fa-c340ab1e983c\", [{\"type\": \"bar\", \"x\": [\"haze\", \"primary\", \"agriculture\", \"clear\", \"water\", \"habitation\", \"road\", \"cultivation\", \"slash_burn\", \"cloudy\", \"partly_cloudy\", \"conventional_mine\", \"bare_ground\", \"artisinal_mine\", \"blooming\", \"selective_logging\", \"blow_down\"], \"y\": [0.05489614243323442, 0.9274674909400981, 0.298154742635157, 0.7060395134641074, 0.17302525523911874, 0.097669256381798, 0.2022085889570552, 0.11820652173913043, 0.019417475728155338, 0.03409090909090909, 0.18295045668419596, 0.02040816326530612, 0.02457002457002457, 0.011976047904191617, 0.006535947712418301, 0.005917159763313609, 0.017857142857142856], \"name\": \"recall\", \"marker\": {\"color\": \"rgb(255, 0, 0)\"}}, {\"type\": \"bar\", \"x\": [\"haze\", \"primary\", \"agriculture\", \"clear\", \"water\", \"habitation\", \"road\", \"cultivation\", \"slash_burn\", \"cloudy\", \"partly_cloudy\", \"conventional_mine\", \"bare_ground\", \"artisinal_mine\", \"blooming\", \"selective_logging\", \"blow_down\"], \"y\": [0.05723124516627997, 0.9266773162939297, 0.3018187776503359, 0.7021395609005734, 0.17349137931034483, 0.09346787041954328, 0.20451724993794987, 0.10970996216897856, 0.01904761904761905, 0.034220532319391636, 0.17860037827614159, 0.02040816326530612, 0.022026431718061675, 0.01098901098901099, 0.0058823529411764705, 0.005988023952095809, 0.02631578947368421], \"name\": \"precision\", \"marker\": {\"color\": \"rgb(0, 255, 0)\"}}, {\"type\": \"bar\", \"x\": [\"haze\", \"primary\", \"agriculture\", \"clear\", \"water\", \"habitation\", \"road\", \"cultivation\", \"slash_burn\", \"cloudy\", \"partly_cloudy\", \"conventional_mine\", \"bare_ground\", \"artisinal_mine\", \"blooming\", \"selective_logging\", \"blow_down\"], \"y\": [0.055347793567688854, 0.9273093482245618, 0.2988804153821191, 0.7052560609040088, 0.17311827956989248, 0.09679903200967992, 0.202666141964681, 0.1164035322451164, 0.01934235976789168, 0.03411675511751327, 0.18206357075965407, 0.02040816326530612, 0.02401536983669549, 0.011764705882352941, 0.00639386189258312, 0.005931198102016607, 0.019083969465648856], \"name\": \"f2\", \"marker\": {\"color\": \"rgb(0, 0, 255)\"}}], {\"title\": \"Scores for Empirical Random Classifier. Recall=0.55, Precision=0.55, F2=0.55\", \"barmode\": \"group\"}, {\"showLink\": true, \"linkText\": \"Export to plot.ly\"})});</script>"
      ],
      "text/vnd.plotly.v1+html": [
       "<div id=\"ac27bf4b-feb5-4689-92fa-c340ab1e983c\" style=\"height: 525px; width: 100%;\" class=\"plotly-graph-div\"></div><script type=\"text/javascript\">require([\"plotly\"], function(Plotly) { window.PLOTLYENV=window.PLOTLYENV || {};window.PLOTLYENV.BASE_URL=\"https://plot.ly\";Plotly.newPlot(\"ac27bf4b-feb5-4689-92fa-c340ab1e983c\", [{\"type\": \"bar\", \"x\": [\"haze\", \"primary\", \"agriculture\", \"clear\", \"water\", \"habitation\", \"road\", \"cultivation\", \"slash_burn\", \"cloudy\", \"partly_cloudy\", \"conventional_mine\", \"bare_ground\", \"artisinal_mine\", \"blooming\", \"selective_logging\", \"blow_down\"], \"y\": [0.05489614243323442, 0.9274674909400981, 0.298154742635157, 0.7060395134641074, 0.17302525523911874, 0.097669256381798, 0.2022085889570552, 0.11820652173913043, 0.019417475728155338, 0.03409090909090909, 0.18295045668419596, 0.02040816326530612, 0.02457002457002457, 0.011976047904191617, 0.006535947712418301, 0.005917159763313609, 0.017857142857142856], \"name\": \"recall\", \"marker\": {\"color\": \"rgb(255, 0, 0)\"}}, {\"type\": \"bar\", \"x\": [\"haze\", \"primary\", \"agriculture\", \"clear\", \"water\", \"habitation\", \"road\", \"cultivation\", \"slash_burn\", \"cloudy\", \"partly_cloudy\", \"conventional_mine\", \"bare_ground\", \"artisinal_mine\", \"blooming\", \"selective_logging\", \"blow_down\"], \"y\": [0.05723124516627997, 0.9266773162939297, 0.3018187776503359, 0.7021395609005734, 0.17349137931034483, 0.09346787041954328, 0.20451724993794987, 0.10970996216897856, 0.01904761904761905, 0.034220532319391636, 0.17860037827614159, 0.02040816326530612, 0.022026431718061675, 0.01098901098901099, 0.0058823529411764705, 0.005988023952095809, 0.02631578947368421], \"name\": \"precision\", \"marker\": {\"color\": \"rgb(0, 255, 0)\"}}, {\"type\": \"bar\", \"x\": [\"haze\", \"primary\", \"agriculture\", \"clear\", \"water\", \"habitation\", \"road\", \"cultivation\", \"slash_burn\", \"cloudy\", \"partly_cloudy\", \"conventional_mine\", \"bare_ground\", \"artisinal_mine\", \"blooming\", \"selective_logging\", \"blow_down\"], \"y\": [0.055347793567688854, 0.9273093482245618, 0.2988804153821191, 0.7052560609040088, 0.17311827956989248, 0.09679903200967992, 0.202666141964681, 0.1164035322451164, 0.01934235976789168, 0.03411675511751327, 0.18206357075965407, 0.02040816326530612, 0.02401536983669549, 0.011764705882352941, 0.00639386189258312, 0.005931198102016607, 0.019083969465648856], \"name\": \"f2\", \"marker\": {\"color\": \"rgb(0, 0, 255)\"}}], {\"title\": \"Scores for Empirical Random Classifier. Recall=0.55, Precision=0.55, F2=0.55\", \"barmode\": \"group\"}, {\"showLink\": true, \"linkText\": \"Export to plot.ly\"})});</script>"
      ]
     },
     "metadata": {},
     "output_type": "display_data"
    }
   ],
   "source": [
    "train_label_probs = numpy.mean(train_labels, axis=0, keepdims=True)\n",
    "pred_labels_emp_rand = planet.predict.empirical_random(num_test, train_label_probs)\n",
    "\n",
    "emp_rand_fig = planet.predict.make_scores_plot(pred_labels_emp_rand, test_labels, label_names, 'Empirical Random')\n",
    "plotly.offline.iplot(emp_rand_fig, filename=os.path.join(data_dir, 'emp_rand_scores.html'))"
   ]
  },
  {
   "cell_type": "markdown",
   "metadata": {},
   "source": [
    "Introducing these probabilities increases the average recall a little, increases the average precision a lot and balances the two scores. Note that even though recall decreased for many labels, it increased overall because some labels much more frequently that others and so the overall score is boosted by predicting those more frequently."
   ]
  },
  {
   "cell_type": "markdown",
   "metadata": {},
   "source": [
    "## Nearest Neighbors Classifier\n",
    "\n",
    "The simplest supervised learning method is a nearest neighbors classifier. First we try resizing each image to be 1x1, which effectively make each image be represented by its mean RGB triple."
   ]
  },
  {
   "cell_type": "code",
   "execution_count": 17,
   "metadata": {},
   "outputs": [
    {
     "name": "stderr",
     "output_type": "stream",
     "text": [
      "100%|██████████| 20240/20240 [03:12<00:00, 105.04it/s]\n",
      "100%|██████████| 20239/20239 [03:09<00:00, 106.69it/s]\n"
     ]
    }
   ],
   "source": [
    "all_names = list(all_tags.keys())\n",
    "\n",
    "image_size = (224, 224)\n",
    "image_dir = os.path.join(data_dir, 'train-jpg')\n",
    "train_names = [all_names[i] for i in train_inds]\n",
    "test_names = [all_names[i] for i in test_inds]\n",
    "\n",
    "test_images = planet.util.read_images(image_dir, test_names, out_size=image_size)\n",
    "train_images = planet.util.read_images(image_dir, train_names, out_size=image_size)"
   ]
  },
  {
   "cell_type": "code",
   "execution_count": 23,
   "metadata": {},
   "outputs": [
    {
     "name": "stderr",
     "output_type": "stream",
     "text": [
      "100%|██████████| 20239/20239 [00:13<00:00, 1470.37it/s]\n",
      "100%|██████████| 20240/20240 [00:14<00:00, 1428.63it/s]\n",
      "100%|██████████| 65/65 [00:05<00:00, 10.77it/s]\n"
     ]
    },
    {
     "data": {
      "application/vnd.plotly.v1+json": {
       "data": [
        {
         "type": "bar",
         "x": [
          1,
          3,
          5,
          7,
          9,
          11,
          13,
          15,
          17,
          19,
          21,
          23,
          25
         ],
         "y": [
          0.6340579264847531,
          0.6515612312899154,
          0.655115296816122,
          0.6558084958052572,
          0.6588070990775676,
          0.6586393890921717,
          0.6589647958601021,
          0.6584058114765131,
          0.6580959856735309,
          0.6581865468267797,
          0.6574748951767678,
          0.6568013332243673,
          0.6571563749505378
         ]
        }
       ],
       "layout": {
        "title": "F2 Scores of kNN on 1x1 Images"
       }
      },
      "text/html": [
       "<div id=\"4d4d40dc-7d86-48ba-ad48-b592a2fedd0a\" style=\"height: 525px; width: 100%;\" class=\"plotly-graph-div\"></div><script type=\"text/javascript\">require([\"plotly\"], function(Plotly) { window.PLOTLYENV=window.PLOTLYENV || {};window.PLOTLYENV.BASE_URL=\"https://plot.ly\";Plotly.newPlot(\"4d4d40dc-7d86-48ba-ad48-b592a2fedd0a\", [{\"type\": \"bar\", \"x\": [1, 3, 5, 7, 9, 11, 13, 15, 17, 19, 21, 23, 25], \"y\": [0.6340579264847531, 0.6515612312899154, 0.655115296816122, 0.6558084958052572, 0.6588070990775676, 0.6586393890921717, 0.6589647958601021, 0.6584058114765131, 0.6580959856735309, 0.6581865468267797, 0.6574748951767678, 0.6568013332243673, 0.6571563749505378]}], {\"title\": \"F2 Scores of kNN on 1x1 Images\"}, {\"showLink\": true, \"linkText\": \"Export to plot.ly\"})});</script>"
      ],
      "text/vnd.plotly.v1+html": [
       "<div id=\"4d4d40dc-7d86-48ba-ad48-b592a2fedd0a\" style=\"height: 525px; width: 100%;\" class=\"plotly-graph-div\"></div><script type=\"text/javascript\">require([\"plotly\"], function(Plotly) { window.PLOTLYENV=window.PLOTLYENV || {};window.PLOTLYENV.BASE_URL=\"https://plot.ly\";Plotly.newPlot(\"4d4d40dc-7d86-48ba-ad48-b592a2fedd0a\", [{\"type\": \"bar\", \"x\": [1, 3, 5, 7, 9, 11, 13, 15, 17, 19, 21, 23, 25], \"y\": [0.6340579264847531, 0.6515612312899154, 0.655115296816122, 0.6558084958052572, 0.6588070990775676, 0.6586393890921717, 0.6589647958601021, 0.6584058114765131, 0.6580959856735309, 0.6581865468267797, 0.6574748951767678, 0.6568013332243673, 0.6571563749505378]}], {\"title\": \"F2 Scores of kNN on 1x1 Images\"}, {\"showLink\": true, \"linkText\": \"Export to plot.ly\"})});</script>"
      ]
     },
     "metadata": {},
     "output_type": "display_data"
    }
   ],
   "source": [
    "train_images_sp = planet.util.resize_images(train_images, (1, 1))\n",
    "test_images_sp = planet.util.resize_images(test_images, (1, 1))\n",
    "\n",
    "ks = range(1, 27, 2)\n",
    "knn_scores = planet.predict.score_k_nearest_neighbors(train_images_sp, train_labels, ks, 5)\n",
    "        \n",
    "knn_scores_fig = planet.util.make_bar_plot(ks, knn_scores, 'F2 Scores of kNN on 1x1 Images')\n",
    "plotly.offline.iplot(knn_scores_fig, filename=os.path.join(data_dir, 'knns_f2_scores.html'))"
   ]
  },
  {
   "cell_type": "code",
   "execution_count": 25,
   "metadata": {},
   "outputs": [
    {
     "name": "stderr",
     "output_type": "stream",
     "text": [
      "/home/sweet/software/miniconda3/lib/python3.6/site-packages/sklearn/metrics/classification.py:1135: UndefinedMetricWarning:\n",
      "\n",
      "Precision is ill-defined and being set to 0.0 in labels with no predicted samples.\n",
      "\n",
      "/home/sweet/software/miniconda3/lib/python3.6/site-packages/sklearn/metrics/classification.py:1135: UndefinedMetricWarning:\n",
      "\n",
      "F-score is ill-defined and being set to 0.0 in labels with no predicted samples.\n",
      "\n"
     ]
    },
    {
     "data": {
      "application/vnd.plotly.v1+json": {
       "data": [
        {
         "marker": {
          "color": "rgb(255, 0, 0)"
         },
         "name": "recall",
         "type": "bar",
         "x": [
          "haze",
          "primary",
          "agriculture",
          "clear",
          "water",
          "habitation",
          "road",
          "cultivation",
          "slash_burn",
          "cloudy",
          "partly_cloudy",
          "conventional_mine",
          "bare_ground",
          "artisinal_mine",
          "blooming",
          "selective_logging",
          "blow_down"
         ],
         "y": [
          0.2129080118694362,
          0.979801748028139,
          0.4041761087730657,
          0.9315896786894466,
          0.07469102632993015,
          0.024972253052164262,
          0.23239263803680982,
          0.0022644927536231885,
          0,
          0.5198863636363636,
          0.049820094104622195,
          0,
          0.022113022113022112,
          0.11377245508982035,
          0,
          0,
          0
         ]
        },
        {
         "marker": {
          "color": "rgb(0, 255, 0)"
         },
         "name": "precision",
         "type": "bar",
         "x": [
          "haze",
          "primary",
          "agriculture",
          "clear",
          "water",
          "habitation",
          "road",
          "cultivation",
          "slash_burn",
          "cloudy",
          "partly_cloudy",
          "conventional_mine",
          "bare_ground",
          "artisinal_mine",
          "blooming",
          "selective_logging",
          "blow_down"
         ],
         "y": [
          0.4991304347826087,
          0.9543708471760798,
          0.6277023629964806,
          0.8192666790329561,
          0.46488294314381273,
          0.3333333333333333,
          0.5433161216293746,
          0.16129032258064516,
          0,
          0.6443661971830986,
          0.3557312252964427,
          0,
          0.391304347826087,
          0.7037037037037037,
          0,
          0,
          0
         ]
        },
        {
         "marker": {
          "color": "rgb(0, 0, 255)"
         },
         "name": "f2",
         "type": "bar",
         "x": [
          "haze",
          "primary",
          "agriculture",
          "clear",
          "water",
          "habitation",
          "road",
          "cultivation",
          "slash_burn",
          "cloudy",
          "partly_cloudy",
          "conventional_mine",
          "bare_ground",
          "artisinal_mine",
          "blooming",
          "selective_logging",
          "blow_down"
         ],
         "y": [
          0.24048935813641698,
          0.9746077184054285,
          0.43516904844893683,
          0.9067268870184082,
          0.08975849154074649,
          0.03064142720958736,
          0.26242864268691457,
          0.002820715333408552,
          0,
          0.5407801418439716,
          0.06016847172081828,
          0,
          0.02725620835857056,
          0.13669064748201437,
          0,
          0,
          0
         ]
        }
       ],
       "layout": {
        "barmode": "group",
        "title": "Scores for F2 Scores of kNN (k=13) on 1x1 Images Classifier. Recall=0.63, Precision=0.83, F2=0.66"
       }
      },
      "text/html": [
       "<div id=\"f4e3df6c-70d0-4a34-b0c6-8a91ec6c36c7\" style=\"height: 525px; width: 100%;\" class=\"plotly-graph-div\"></div><script type=\"text/javascript\">require([\"plotly\"], function(Plotly) { window.PLOTLYENV=window.PLOTLYENV || {};window.PLOTLYENV.BASE_URL=\"https://plot.ly\";Plotly.newPlot(\"f4e3df6c-70d0-4a34-b0c6-8a91ec6c36c7\", [{\"type\": \"bar\", \"x\": [\"haze\", \"primary\", \"agriculture\", \"clear\", \"water\", \"habitation\", \"road\", \"cultivation\", \"slash_burn\", \"cloudy\", \"partly_cloudy\", \"conventional_mine\", \"bare_ground\", \"artisinal_mine\", \"blooming\", \"selective_logging\", \"blow_down\"], \"y\": [0.2129080118694362, 0.979801748028139, 0.4041761087730657, 0.9315896786894466, 0.07469102632993015, 0.024972253052164262, 0.23239263803680982, 0.0022644927536231885, 0.0, 0.5198863636363636, 0.049820094104622195, 0.0, 0.022113022113022112, 0.11377245508982035, 0.0, 0.0, 0.0], \"name\": \"recall\", \"marker\": {\"color\": \"rgb(255, 0, 0)\"}}, {\"type\": \"bar\", \"x\": [\"haze\", \"primary\", \"agriculture\", \"clear\", \"water\", \"habitation\", \"road\", \"cultivation\", \"slash_burn\", \"cloudy\", \"partly_cloudy\", \"conventional_mine\", \"bare_ground\", \"artisinal_mine\", \"blooming\", \"selective_logging\", \"blow_down\"], \"y\": [0.4991304347826087, 0.9543708471760798, 0.6277023629964806, 0.8192666790329561, 0.46488294314381273, 0.3333333333333333, 0.5433161216293746, 0.16129032258064516, 0.0, 0.6443661971830986, 0.3557312252964427, 0.0, 0.391304347826087, 0.7037037037037037, 0.0, 0.0, 0.0], \"name\": \"precision\", \"marker\": {\"color\": \"rgb(0, 255, 0)\"}}, {\"type\": \"bar\", \"x\": [\"haze\", \"primary\", \"agriculture\", \"clear\", \"water\", \"habitation\", \"road\", \"cultivation\", \"slash_burn\", \"cloudy\", \"partly_cloudy\", \"conventional_mine\", \"bare_ground\", \"artisinal_mine\", \"blooming\", \"selective_logging\", \"blow_down\"], \"y\": [0.24048935813641698, 0.9746077184054285, 0.43516904844893683, 0.9067268870184082, 0.08975849154074649, 0.03064142720958736, 0.26242864268691457, 0.002820715333408552, 0.0, 0.5407801418439716, 0.06016847172081828, 0.0, 0.02725620835857056, 0.13669064748201437, 0.0, 0.0, 0.0], \"name\": \"f2\", \"marker\": {\"color\": \"rgb(0, 0, 255)\"}}], {\"title\": \"Scores for F2 Scores of kNN (k=13) on 1x1 Images Classifier. Recall=0.63, Precision=0.83, F2=0.66\", \"barmode\": \"group\"}, {\"showLink\": true, \"linkText\": \"Export to plot.ly\"})});</script>"
      ],
      "text/vnd.plotly.v1+html": [
       "<div id=\"f4e3df6c-70d0-4a34-b0c6-8a91ec6c36c7\" style=\"height: 525px; width: 100%;\" class=\"plotly-graph-div\"></div><script type=\"text/javascript\">require([\"plotly\"], function(Plotly) { window.PLOTLYENV=window.PLOTLYENV || {};window.PLOTLYENV.BASE_URL=\"https://plot.ly\";Plotly.newPlot(\"f4e3df6c-70d0-4a34-b0c6-8a91ec6c36c7\", [{\"type\": \"bar\", \"x\": [\"haze\", \"primary\", \"agriculture\", \"clear\", \"water\", \"habitation\", \"road\", \"cultivation\", \"slash_burn\", \"cloudy\", \"partly_cloudy\", \"conventional_mine\", \"bare_ground\", \"artisinal_mine\", \"blooming\", \"selective_logging\", \"blow_down\"], \"y\": [0.2129080118694362, 0.979801748028139, 0.4041761087730657, 0.9315896786894466, 0.07469102632993015, 0.024972253052164262, 0.23239263803680982, 0.0022644927536231885, 0.0, 0.5198863636363636, 0.049820094104622195, 0.0, 0.022113022113022112, 0.11377245508982035, 0.0, 0.0, 0.0], \"name\": \"recall\", \"marker\": {\"color\": \"rgb(255, 0, 0)\"}}, {\"type\": \"bar\", \"x\": [\"haze\", \"primary\", \"agriculture\", \"clear\", \"water\", \"habitation\", \"road\", \"cultivation\", \"slash_burn\", \"cloudy\", \"partly_cloudy\", \"conventional_mine\", \"bare_ground\", \"artisinal_mine\", \"blooming\", \"selective_logging\", \"blow_down\"], \"y\": [0.4991304347826087, 0.9543708471760798, 0.6277023629964806, 0.8192666790329561, 0.46488294314381273, 0.3333333333333333, 0.5433161216293746, 0.16129032258064516, 0.0, 0.6443661971830986, 0.3557312252964427, 0.0, 0.391304347826087, 0.7037037037037037, 0.0, 0.0, 0.0], \"name\": \"precision\", \"marker\": {\"color\": \"rgb(0, 255, 0)\"}}, {\"type\": \"bar\", \"x\": [\"haze\", \"primary\", \"agriculture\", \"clear\", \"water\", \"habitation\", \"road\", \"cultivation\", \"slash_burn\", \"cloudy\", \"partly_cloudy\", \"conventional_mine\", \"bare_ground\", \"artisinal_mine\", \"blooming\", \"selective_logging\", \"blow_down\"], \"y\": [0.24048935813641698, 0.9746077184054285, 0.43516904844893683, 0.9067268870184082, 0.08975849154074649, 0.03064142720958736, 0.26242864268691457, 0.002820715333408552, 0.0, 0.5407801418439716, 0.06016847172081828, 0.0, 0.02725620835857056, 0.13669064748201437, 0.0, 0.0, 0.0], \"name\": \"f2\", \"marker\": {\"color\": \"rgb(0, 0, 255)\"}}], {\"title\": \"Scores for F2 Scores of kNN (k=13) on 1x1 Images Classifier. Recall=0.63, Precision=0.83, F2=0.66\", \"barmode\": \"group\"}, {\"showLink\": true, \"linkText\": \"Export to plot.ly\"})});</script>"
      ]
     },
     "metadata": {},
     "output_type": "display_data"
    }
   ],
   "source": [
    "best_k = ks[numpy.argmax(knn_scores)]\n",
    "knn = planet.predict.KNearestNeighbors(train_images_sp, train_labels, k=best_k)\n",
    "pred_labels_knn = knn.predict(test_images_sp)\n",
    "\n",
    "knn_fig = planet.predict.make_scores_plot(pred_labels_knn, test_labels, label_names, 'F2 Scores of kNN (k={}) on 1x1 Images'.format(best_k))\n",
    "plotly.offline.iplot(knn_fig, filename=os.path.join(data_dir, 'knn_scores.html'))"
   ]
  },
  {
   "cell_type": "markdown",
   "metadata": {},
   "source": [
    "## Convolution Neural Network\n",
    "\n",
    "Next, we try using a convolutional neural network. More specifically, we use the VGG19 network architecture with pre-trained weights from the imagenet detection task to transform each image to a 512 7x7 response fields, then train a traditional 3-layer neural network that uses those fields as inputs. Here, we just load the pre-trained weights from the extra layers and predict the test labels.  "
   ]
  },
  {
   "cell_type": "code",
   "execution_count": 26,
   "metadata": {},
   "outputs": [
    {
     "name": "stdout",
     "output_type": "stream",
     "text": [
      "20240/20240 [==============================] - 14838s 733ms/step\n",
      "20240/20240 [==============================] - 5s 226us/step\n"
     ]
    },
    {
     "name": "stderr",
     "output_type": "stream",
     "text": [
      "/home/sweet/software/miniconda3/lib/python3.6/site-packages/sklearn/metrics/classification.py:1135: UndefinedMetricWarning:\n",
      "\n",
      "Precision is ill-defined and being set to 0.0 in labels with no predicted samples.\n",
      "\n",
      "/home/sweet/software/miniconda3/lib/python3.6/site-packages/sklearn/metrics/classification.py:1135: UndefinedMetricWarning:\n",
      "\n",
      "F-score is ill-defined and being set to 0.0 in labels with no predicted samples.\n",
      "\n"
     ]
    },
    {
     "data": {
      "application/vnd.plotly.v1+json": {
       "data": [
        {
         "marker": {
          "color": "rgb(255, 0, 0)"
         },
         "name": "recall",
         "type": "bar",
         "x": [
          "haze",
          "primary",
          "agriculture",
          "clear",
          "water",
          "habitation",
          "road",
          "cultivation",
          "slash_burn",
          "cloudy",
          "partly_cloudy",
          "conventional_mine",
          "bare_ground",
          "artisinal_mine",
          "blooming",
          "selective_logging",
          "blow_down"
         ],
         "y": [
          0.2878338278931751,
          0.9833724152632701,
          0.6663968921981224,
          0.9574632637277649,
          0.4785061794734014,
          0.4039955604883463,
          0.588957055214724,
          0.07971014492753623,
          0,
          0.6193181818181818,
          0.6180459451978965,
          0.02040816326530612,
          0.029484029484029485,
          0.0658682634730539,
          0,
          0,
          0
         ]
        },
        {
         "marker": {
          "color": "rgb(0, 255, 0)"
         },
         "name": "precision",
         "type": "bar",
         "x": [
          "haze",
          "primary",
          "agriculture",
          "clear",
          "water",
          "habitation",
          "road",
          "cultivation",
          "slash_burn",
          "cloudy",
          "partly_cloudy",
          "conventional_mine",
          "bare_ground",
          "artisinal_mine",
          "blooming",
          "selective_logging",
          "blow_down"
         ],
         "y": [
          0.6759581881533101,
          0.9700346966670171,
          0.8028471138845554,
          0.9137144390767579,
          0.7126850740296119,
          0.5325530358449159,
          0.7936507936507936,
          0.47058823529411764,
          0,
          0.856020942408377,
          0.8455130632336236,
          0.16666666666666666,
          0.12,
          0.16666666666666666,
          0,
          0,
          0
         ]
        },
        {
         "marker": {
          "color": "rgb(0, 0, 255)"
         },
         "name": "f2",
         "type": "bar",
         "x": [
          "haze",
          "primary",
          "agriculture",
          "clear",
          "water",
          "habitation",
          "road",
          "cultivation",
          "slash_burn",
          "cloudy",
          "partly_cloudy",
          "conventional_mine",
          "bare_ground",
          "artisinal_mine",
          "blooming",
          "selective_logging",
          "blow_down"
         ],
         "y": [
          0.3251759973181361,
          0.9806756096005443,
          0.6898458445040214,
          0.9483815254331717,
          0.512164260654512,
          0.4244897959183674,
          0.6209894431794659,
          0.09558983271779276,
          0,
          0.6555733761026462,
          0.6531913648862107,
          0.02475247524752475,
          0.034722222222222224,
          0.07493188010899184,
          0,
          0,
          0
         ]
        }
       ],
       "layout": {
        "barmode": "group",
        "title": "Scores for F2 Scores of CNN (H=32) on 224x224 Images Classifier. Recall=0.77, Precision=0.88, F2=0.79"
       }
      },
      "text/html": [
       "<div id=\"9e409e3a-159b-4600-805b-bac75b42d75c\" style=\"height: 525px; width: 100%;\" class=\"plotly-graph-div\"></div><script type=\"text/javascript\">require([\"plotly\"], function(Plotly) { window.PLOTLYENV=window.PLOTLYENV || {};window.PLOTLYENV.BASE_URL=\"https://plot.ly\";Plotly.newPlot(\"9e409e3a-159b-4600-805b-bac75b42d75c\", [{\"type\": \"bar\", \"x\": [\"haze\", \"primary\", \"agriculture\", \"clear\", \"water\", \"habitation\", \"road\", \"cultivation\", \"slash_burn\", \"cloudy\", \"partly_cloudy\", \"conventional_mine\", \"bare_ground\", \"artisinal_mine\", \"blooming\", \"selective_logging\", \"blow_down\"], \"y\": [0.2878338278931751, 0.9833724152632701, 0.6663968921981224, 0.9574632637277649, 0.4785061794734014, 0.4039955604883463, 0.588957055214724, 0.07971014492753623, 0.0, 0.6193181818181818, 0.6180459451978965, 0.02040816326530612, 0.029484029484029485, 0.0658682634730539, 0.0, 0.0, 0.0], \"name\": \"recall\", \"marker\": {\"color\": \"rgb(255, 0, 0)\"}}, {\"type\": \"bar\", \"x\": [\"haze\", \"primary\", \"agriculture\", \"clear\", \"water\", \"habitation\", \"road\", \"cultivation\", \"slash_burn\", \"cloudy\", \"partly_cloudy\", \"conventional_mine\", \"bare_ground\", \"artisinal_mine\", \"blooming\", \"selective_logging\", \"blow_down\"], \"y\": [0.6759581881533101, 0.9700346966670171, 0.8028471138845554, 0.9137144390767579, 0.7126850740296119, 0.5325530358449159, 0.7936507936507936, 0.47058823529411764, 0.0, 0.856020942408377, 0.8455130632336236, 0.16666666666666666, 0.12, 0.16666666666666666, 0.0, 0.0, 0.0], \"name\": \"precision\", \"marker\": {\"color\": \"rgb(0, 255, 0)\"}}, {\"type\": \"bar\", \"x\": [\"haze\", \"primary\", \"agriculture\", \"clear\", \"water\", \"habitation\", \"road\", \"cultivation\", \"slash_burn\", \"cloudy\", \"partly_cloudy\", \"conventional_mine\", \"bare_ground\", \"artisinal_mine\", \"blooming\", \"selective_logging\", \"blow_down\"], \"y\": [0.3251759973181361, 0.9806756096005443, 0.6898458445040214, 0.9483815254331717, 0.512164260654512, 0.4244897959183674, 0.6209894431794659, 0.09558983271779276, 0.0, 0.6555733761026462, 0.6531913648862107, 0.02475247524752475, 0.034722222222222224, 0.07493188010899184, 0.0, 0.0, 0.0], \"name\": \"f2\", \"marker\": {\"color\": \"rgb(0, 0, 255)\"}}], {\"title\": \"Scores for F2 Scores of CNN (H=32) on 224x224 Images Classifier. Recall=0.77, Precision=0.88, F2=0.79\", \"barmode\": \"group\"}, {\"showLink\": true, \"linkText\": \"Export to plot.ly\"})});</script>"
      ],
      "text/vnd.plotly.v1+html": [
       "<div id=\"9e409e3a-159b-4600-805b-bac75b42d75c\" style=\"height: 525px; width: 100%;\" class=\"plotly-graph-div\"></div><script type=\"text/javascript\">require([\"plotly\"], function(Plotly) { window.PLOTLYENV=window.PLOTLYENV || {};window.PLOTLYENV.BASE_URL=\"https://plot.ly\";Plotly.newPlot(\"9e409e3a-159b-4600-805b-bac75b42d75c\", [{\"type\": \"bar\", \"x\": [\"haze\", \"primary\", \"agriculture\", \"clear\", \"water\", \"habitation\", \"road\", \"cultivation\", \"slash_burn\", \"cloudy\", \"partly_cloudy\", \"conventional_mine\", \"bare_ground\", \"artisinal_mine\", \"blooming\", \"selective_logging\", \"blow_down\"], \"y\": [0.2878338278931751, 0.9833724152632701, 0.6663968921981224, 0.9574632637277649, 0.4785061794734014, 0.4039955604883463, 0.588957055214724, 0.07971014492753623, 0.0, 0.6193181818181818, 0.6180459451978965, 0.02040816326530612, 0.029484029484029485, 0.0658682634730539, 0.0, 0.0, 0.0], \"name\": \"recall\", \"marker\": {\"color\": \"rgb(255, 0, 0)\"}}, {\"type\": \"bar\", \"x\": [\"haze\", \"primary\", \"agriculture\", \"clear\", \"water\", \"habitation\", \"road\", \"cultivation\", \"slash_burn\", \"cloudy\", \"partly_cloudy\", \"conventional_mine\", \"bare_ground\", \"artisinal_mine\", \"blooming\", \"selective_logging\", \"blow_down\"], \"y\": [0.6759581881533101, 0.9700346966670171, 0.8028471138845554, 0.9137144390767579, 0.7126850740296119, 0.5325530358449159, 0.7936507936507936, 0.47058823529411764, 0.0, 0.856020942408377, 0.8455130632336236, 0.16666666666666666, 0.12, 0.16666666666666666, 0.0, 0.0, 0.0], \"name\": \"precision\", \"marker\": {\"color\": \"rgb(0, 255, 0)\"}}, {\"type\": \"bar\", \"x\": [\"haze\", \"primary\", \"agriculture\", \"clear\", \"water\", \"habitation\", \"road\", \"cultivation\", \"slash_burn\", \"cloudy\", \"partly_cloudy\", \"conventional_mine\", \"bare_ground\", \"artisinal_mine\", \"blooming\", \"selective_logging\", \"blow_down\"], \"y\": [0.3251759973181361, 0.9806756096005443, 0.6898458445040214, 0.9483815254331717, 0.512164260654512, 0.4244897959183674, 0.6209894431794659, 0.09558983271779276, 0.0, 0.6555733761026462, 0.6531913648862107, 0.02475247524752475, 0.034722222222222224, 0.07493188010899184, 0.0, 0.0, 0.0], \"name\": \"f2\", \"marker\": {\"color\": \"rgb(0, 0, 255)\"}}], {\"title\": \"Scores for F2 Scores of CNN (H=32) on 224x224 Images Classifier. Recall=0.77, Precision=0.88, F2=0.79\", \"barmode\": \"group\"}, {\"showLink\": true, \"linkText\": \"Export to plot.ly\"})});</script>"
      ]
     },
     "metadata": {},
     "output_type": "display_data"
    }
   ],
   "source": [
    "force_train = False\n",
    "cnn_file_path = os.path.join(data_dir, 'vgg19_cnn.h5')\n",
    "if force_train or not os.path.exists(cnn_file_path):\n",
    "    cnn = planet.predict.VGG19ConvNeuralNetwork.from_data(train_images, train_labels, 32)\n",
    "    cnn.write(cnn_file_path)\n",
    "else:\n",
    "    cnn = planet.predict.VGG19ConvNeuralNetwork.from_file(cnn_file_path)\n",
    "    \n",
    "pred_labels_cnn = cnn.predict(test_images)\n",
    "\n",
    "cnn_fig = planet.predict.make_scores_plot(pred_labels_cnn, test_labels, label_names, 'F2 Scores of CNN (H={}) on 224x224 Images'.format(32))\n",
    "plotly.offline.iplot(cnn_fig, filename=os.path.join(data_dir, 'cnn_scores.html'))"
   ]
  },
  {
   "cell_type": "code",
   "execution_count": null,
   "metadata": {
    "collapsed": true
   },
   "outputs": [],
   "source": []
  }
 ],
 "metadata": {
  "kernelspec": {
   "display_name": "Python 3",
   "language": "python",
   "name": "python3"
  },
  "language_info": {
   "codemirror_mode": {
    "name": "ipython",
    "version": 3
   },
   "file_extension": ".py",
   "mimetype": "text/x-python",
   "name": "python",
   "nbconvert_exporter": "python",
   "pygments_lexer": "ipython3",
   "version": "3.6.3"
  }
 },
 "nbformat": 4,
 "nbformat_minor": 2
}
